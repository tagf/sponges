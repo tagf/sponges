{
 "cells": [
  {
   "cell_type": "code",
   "execution_count": 1,
   "metadata": {},
   "outputs": [
    {
     "name": "stdout",
     "output_type": "stream",
     "text": [
      "Fluid dynamics:\n"
     ]
    },
    {
     "data": {
      "text/latex": [
       "$ g \\rho_{f} \\left(\\operatorname{u_{f}}{\\left(x,t \\right)} \\frac{\\partial}{\\partial x} \\operatorname{u_{f}}{\\left(x,t \\right)} + \\frac{\\partial}{\\partial t} \\operatorname{u_{f}}{\\left(x,t \\right)}\\right)$"
      ],
      "text/plain": [
       "<IPython.core.display.Latex object>"
      ]
     },
     "metadata": {},
     "output_type": "display_data"
    },
    {
     "data": {
      "text/latex": [
       "$\\quad= K \\left(- \\operatorname{u_{f}}{\\left(x,t \\right)} + \\operatorname{u_{s}}{\\left(x,t \\right)}\\right) - \\partial_{x} P g,$"
      ],
      "text/plain": [
       "<IPython.core.display.Latex object>"
      ]
     },
     "metadata": {},
     "output_type": "display_data"
    },
    {
     "name": "stdout",
     "output_type": "stream",
     "text": [
      "Solid dynamics:\n"
     ]
    },
    {
     "data": {
      "text/latex": [
       "$ \\rho_{s} \\left(\\operatorname{u_{s}}{\\left(x,t \\right)} \\frac{\\partial}{\\partial x} \\operatorname{u_{s}}{\\left(x,t \\right)} + \\frac{\\partial}{\\partial t} \\operatorname{u_{s}}{\\left(x,t \\right)}\\right)$"
      ],
      "text/plain": [
       "<IPython.core.display.Latex object>"
      ]
     },
     "metadata": {},
     "output_type": "display_data"
    },
    {
     "data": {
      "text/latex": [
       "$\\quad= K \\left(\\operatorname{u_{f}}{\\left(x,t \\right)} - \\operatorname{u_{s}}{\\left(x,t \\right)}\\right) + \\partial_{x} P g + \\partial_{x}(\\sigma_e + S),$"
      ],
      "text/plain": [
       "<IPython.core.display.Latex object>"
      ]
     },
     "metadata": {},
     "output_type": "display_data"
    },
    {
     "name": "stdout",
     "output_type": "stream",
     "text": [
      "Fluid dynamics:\n"
     ]
    },
    {
     "data": {
      "text/latex": [
       "$ g_{0} \\rho_{f} \\left(\\frac{\\left(\\frac{\\partial}{\\partial t} Y{\\left(x,t \\right)}\\right)^{2} \\frac{\\partial^{2}}{\\partial x^{2}} Y{\\left(x,t \\right)}}{\\left(\\frac{\\partial}{\\partial x} Y{\\left(x,t \\right)}\\right)^{2}} - \\frac{2 \\frac{\\partial}{\\partial t} Y{\\left(x,t \\right)} \\frac{\\partial^{2}}{\\partial x\\partial t} Y{\\left(x,t \\right)}}{\\frac{\\partial}{\\partial x} Y{\\left(x,t \\right)}} + \\frac{\\partial^{2}}{\\partial t^{2}} Y{\\left(x,t \\right)}\\right)$"
      ],
      "text/plain": [
       "<IPython.core.display.Latex object>"
      ]
     },
     "metadata": {},
     "output_type": "display_data"
    },
    {
     "data": {
      "text/latex": [
       "$\\quad= - K \\left(- \\frac{\\frac{\\partial}{\\partial t} X{\\left(x,t \\right)}}{\\frac{\\partial}{\\partial x} X{\\left(x,t \\right)}} + \\frac{\\frac{\\partial}{\\partial t} Y{\\left(x,t \\right)}}{\\frac{\\partial}{\\partial x} Y{\\left(x,t \\right)}}\\right) + \\partial_{x} P g_{0} \\frac{\\partial}{\\partial x} Y{\\left(x,t \\right)},$"
      ],
      "text/plain": [
       "<IPython.core.display.Latex object>"
      ]
     },
     "metadata": {},
     "output_type": "display_data"
    },
    {
     "name": "stdout",
     "output_type": "stream",
     "text": [
      "Solid dynamics:\n"
     ]
    },
    {
     "data": {
      "text/latex": [
       "$ \\rho^{0}_{s} \\left(\\frac{\\left(\\frac{\\partial}{\\partial t} X{\\left(x,t \\right)}\\right)^{2} \\frac{\\partial^{2}}{\\partial x^{2}} X{\\left(x,t \\right)}}{\\left(\\frac{\\partial}{\\partial x} X{\\left(x,t \\right)}\\right)^{2}} - \\frac{2 \\frac{\\partial}{\\partial t} X{\\left(x,t \\right)} \\frac{\\partial^{2}}{\\partial x\\partial t} X{\\left(x,t \\right)}}{\\frac{\\partial}{\\partial x} X{\\left(x,t \\right)}} + \\frac{\\partial^{2}}{\\partial t^{2}} X{\\left(x,t \\right)}\\right)$"
      ],
      "text/plain": [
       "<IPython.core.display.Latex object>"
      ]
     },
     "metadata": {},
     "output_type": "display_data"
    },
    {
     "data": {
      "text/latex": [
       "$\\quad= - K \\left(\\frac{\\frac{\\partial}{\\partial t} X{\\left(x,t \\right)}}{\\frac{\\partial}{\\partial x} X{\\left(x,t \\right)}} - \\frac{\\frac{\\partial}{\\partial t} Y{\\left(x,t \\right)}}{\\frac{\\partial}{\\partial x} Y{\\left(x,t \\right)}}\\right) - \\partial_{x} P g_{0} \\frac{\\partial}{\\partial x} Y{\\left(x,t \\right)} - \\partial_{x}(\\sigma_e + S),$"
      ],
      "text/plain": [
       "<IPython.core.display.Latex object>"
      ]
     },
     "metadata": {},
     "output_type": "display_data"
    },
    {
     "name": "stdout",
     "output_type": "stream",
     "text": [
      "Pressure:\n"
     ]
    },
    {
     "data": {
      "text/latex": [
       "$ \\partial_{x} P$"
      ],
      "text/plain": [
       "<IPython.core.display.Latex object>"
      ]
     },
     "metadata": {},
     "output_type": "display_data"
    },
    {
     "data": {
      "text/latex": [
       "$\\quad= \\frac{\\partial^{2}}{\\partial x^{2}} X{\\left(x,t \\right)} \\left. \\frac{\\partial}{\\partial \\xi} P{\\left(\\xi,\\frac{\\partial}{\\partial x} Y{\\left(x,t \\right)} \\right)} \\right|_{{ \\xi=\\frac{\\partial}{\\partial x} X{\\left(x,t \\right)} }} + \\frac{\\partial^{2}}{\\partial x^{2}} Y{\\left(x,t \\right)} \\left. \\frac{\\partial}{\\partial \\eta} P{\\left(\\frac{\\partial}{\\partial x} X{\\left(x,t \\right)},\\eta \\right)} \\right|_{{ \\eta=\\frac{\\partial}{\\partial x} Y{\\left(x,t \\right)} }},$"
      ],
      "text/plain": [
       "<IPython.core.display.Latex object>"
      ]
     },
     "metadata": {},
     "output_type": "display_data"
    },
    {
     "name": "stdout",
     "output_type": "stream",
     "text": [
      "Potential energy:\n"
     ]
    },
    {
     "data": {
      "text/latex": [
       "$ V = \\frac{\\alpha \\left(\\frac{\\partial}{\\partial x} X{\\left(x,t \\right)} - 1\\right)^{2}}{2} + \\frac{\\beta \\left(g_{0} \\frac{\\partial}{\\partial x} Y{\\left(x,t \\right)} + \\left(1 - g_{0}\\right) \\frac{\\partial}{\\partial x} X{\\left(x,t \\right)} - 1\\right)^{2}}{2}$"
      ],
      "text/plain": [
       "<IPython.core.display.Latex object>"
      ]
     },
     "metadata": {},
     "output_type": "display_data"
    },
    {
     "data": {
      "text/latex": [
       "$\\displaystyle V = \\frac{\\alpha \\left(-1 + \\frac{1}{\\sqrt{b}}\\right)^{2}}{2} + \\frac{\\beta \\left(g_{0} \\frac{\\partial}{\\partial x} Y{\\left(x,t \\right)} - 1 + \\frac{1 - g_{0}}{\\sqrt{b}}\\right)^{2}}{2}$"
      ],
      "text/plain": [
       "Eq(V, alpha*(-1 + 1/sqrt(b))**2/2 + beta*(g_0*Derivative(Y(x, t), x) - 1 + (1 - g_0)/sqrt(b))**2/2)"
      ]
     },
     "metadata": {},
     "output_type": "display_data"
    },
    {
     "data": {
      "text/latex": [
       "$\\displaystyle V = \\frac{\\alpha \\left(-1 + \\frac{1}{\\sqrt{b}}\\right)^{2}}{2} + \\frac{\\beta \\left(-1 + \\frac{c_{0} g_{0} v}{\\sqrt{b}} + \\frac{1 - g_{0}}{\\sqrt{b}}\\right)^{2}}{2}$"
      ],
      "text/plain": [
       "Eq(V, alpha*(-1 + 1/sqrt(b))**2/2 + beta*(-1 + c_0*g_0*v/sqrt(b) + (1 - g_0)/sqrt(b))**2/2)"
      ]
     },
     "metadata": {},
     "output_type": "display_data"
    },
    {
     "name": "stdout",
     "output_type": "stream",
     "text": [
      "Sigma epsilon:\n"
     ]
    },
    {
     "data": {
      "text/latex": [
       "$ 2 b \\frac{\\partial}{\\partial b} V{\\left(b,v \\right)} + V{\\left(b,v \\right)}$"
      ],
      "text/plain": [
       "<IPython.core.display.Latex object>"
      ]
     },
     "metadata": {},
     "output_type": "display_data"
    },
    {
     "data": {
      "text/latex": [
       "$\\quad= \\frac{\\alpha \\left(-1 + \\frac{1}{\\sqrt{b}}\\right)^{2}}{2} + b \\left(- \\frac{\\alpha \\left(-1 + \\frac{1}{\\sqrt{b}}\\right)}{b^{\\frac{3}{2}}} + \\beta \\left(- \\frac{c_{0} g_{0} v}{b^{\\frac{3}{2}}} - \\frac{1 - g_{0}}{b^{\\frac{3}{2}}}\\right) \\left(-1 + \\frac{c_{0} g_{0} v}{\\sqrt{b}} + \\frac{1 - g_{0}}{\\sqrt{b}}\\right)\\right) + \\frac{\\beta \\left(-1 + \\frac{c_{0} g_{0} v}{\\sqrt{b}} + \\frac{1 - g_{0}}{\\sqrt{b}}\\right)^{2}}{2},$"
      ],
      "text/plain": [
       "<IPython.core.display.Latex object>"
      ]
     },
     "metadata": {},
     "output_type": "display_data"
    },
    {
     "data": {
      "text/latex": [
       "$ 2 b \\frac{\\partial}{\\partial b} V{\\left(b,v \\right)} + V{\\left(b,v \\right)}$"
      ],
      "text/plain": [
       "<IPython.core.display.Latex object>"
      ]
     },
     "metadata": {},
     "output_type": "display_data"
    },
    {
     "data": {
      "text/latex": [
       "$\\quad= \\frac{\\alpha}{2} - \\frac{\\alpha}{2 b} + \\frac{\\beta}{2} - \\frac{\\beta c_{0}^{2} g_{0}^{2} v^{2}}{2 b} + \\frac{\\beta c_{0} g_{0}^{2} v}{b} - \\frac{\\beta c_{0} g_{0} v}{b} - \\frac{\\beta g_{0}^{2}}{2 b} + \\frac{\\beta g_{0}}{b} - \\frac{\\beta}{2 b},$"
      ],
      "text/plain": [
       "<IPython.core.display.Latex object>"
      ]
     },
     "metadata": {},
     "output_type": "display_data"
    },
    {
     "name": "stdout",
     "output_type": "stream",
     "text": [
      "Partial_x sigma epsilon:\n"
     ]
    },
    {
     "data": {
      "text/latex": [
       "$ \\partial_{x} \\sigma_e$"
      ],
      "text/plain": [
       "<IPython.core.display.Latex object>"
      ]
     },
     "metadata": {},
     "output_type": "display_data"
    },
    {
     "data": {
      "text/latex": [
       "$\\quad= \\partial_{x} \\left(- \\frac{\\alpha \\left(\\frac{\\partial}{\\partial x} X{\\left(x,t \\right)}\\right)^{2}}{2} + \\frac{\\alpha}{2} - \\frac{\\beta c_{0}^{2} g_{0}^{2} v_{0}^{2} \\left(\\frac{\\partial}{\\partial x} Y{\\left(x,t \\right)}\\right)^{2}}{2} + \\beta c_{0} g_{0}^{2} v_{0} \\frac{\\partial}{\\partial x} X{\\left(x,t \\right)} \\frac{\\partial}{\\partial x} Y{\\left(x,t \\right)} - \\beta c_{0} g_{0} v_{0} \\frac{\\partial}{\\partial x} X{\\left(x,t \\right)} \\frac{\\partial}{\\partial x} Y{\\left(x,t \\right)} - \\frac{\\beta g_{0}^{2} \\left(\\frac{\\partial}{\\partial x} X{\\left(x,t \\right)}\\right)^{2}}{2} + \\beta g_{0} \\left(\\frac{\\partial}{\\partial x} X{\\left(x,t \\right)}\\right)^{2} - \\frac{\\beta \\left(\\frac{\\partial}{\\partial x} X{\\left(x,t \\right)}\\right)^{2}}{2} + \\frac{\\beta}{2}\\right),$"
      ],
      "text/plain": [
       "<IPython.core.display.Latex object>"
      ]
     },
     "metadata": {},
     "output_type": "display_data"
    },
    {
     "name": "stdout",
     "output_type": "stream",
     "text": [
      "or, the whole expression = \n"
     ]
    },
    {
     "data": {
      "text/latex": [
       "$\\displaystyle - \\alpha \\frac{\\partial}{\\partial x} X{\\left(x,t \\right)} \\frac{\\partial^{2}}{\\partial x^{2}} X{\\left(x,t \\right)}$"
      ],
      "text/plain": [
       "-alpha*Derivative(X(x, t), x)*Derivative(X(x, t), (x, 2))"
      ]
     },
     "metadata": {},
     "output_type": "display_data"
    },
    {
     "name": "stdout",
     "output_type": "stream",
     "text": [
      "+\n"
     ]
    },
    {
     "data": {
      "text/latex": [
       "$\\displaystyle - \\beta \\left(- g_{0}^{2} \\frac{\\partial}{\\partial x} Y{\\left(x,t \\right)} + g_{0} \\frac{\\partial}{\\partial x} X{\\left(x,t \\right)} - \\frac{\\partial}{\\partial x} X{\\left(x,t \\right)}\\right) \\left(- g_{0}^{2} \\frac{\\partial^{2}}{\\partial x^{2}} Y{\\left(x,t \\right)} + g_{0} \\frac{\\partial^{2}}{\\partial x^{2}} X{\\left(x,t \\right)} - \\frac{\\partial^{2}}{\\partial x^{2}} X{\\left(x,t \\right)}\\right)$"
      ],
      "text/plain": [
       "-beta*(-g_0**2*Derivative(Y(x, t), x) + g_0*Derivative(X(x, t), x) - Derivative(X(x, t), x))*(-g_0**2*Derivative(Y(x, t), (x, 2)) + g_0*Derivative(X(x, t), (x, 2)) - Derivative(X(x, t), (x, 2)))"
      ]
     },
     "metadata": {},
     "output_type": "display_data"
    },
    {
     "name": "stdout",
     "output_type": "stream",
     "text": [
      "We used the following formula for pore volume in derivation above:\n"
     ]
    },
    {
     "data": {
      "text/latex": [
       "$\\displaystyle \\frac{v}{v_{0}} = \\frac{\\frac{\\partial}{\\partial x} Y{\\left(x,t \\right)}}{\\frac{\\partial}{\\partial x} X{\\left(x,t \\right)}}$"
      ],
      "text/plain": [
       "Eq(v/v_0, Derivative(Y(x, t), x)/Derivative(X(x, t), x))"
      ]
     },
     "metadata": {},
     "output_type": "display_data"
    },
    {
     "name": "stdout",
     "output_type": "stream",
     "text": [
      "We'll use the same formula to find pressure\n"
     ]
    },
    {
     "data": {
      "text/latex": [
       "$\\displaystyle pc(b) = \\frac{\\beta c_{0} g_{0} \\left(-1 + \\frac{c_{0} g_{0} v}{\\sqrt{b}} + \\frac{1 - g_{0}}{\\sqrt{b}}\\right)}{\\sqrt{b}}$"
      ],
      "text/plain": [
       "Eq(pc(b), beta*c_0*g_0*(-1 + c_0*g_0*v/sqrt(b) + (1 - g_0)/sqrt(b))/sqrt(b))"
      ]
     },
     "metadata": {},
     "output_type": "display_data"
    },
    {
     "name": "stdout",
     "output_type": "stream",
     "text": [
      "or, for pressure we have\n"
     ]
    },
    {
     "data": {
      "text/latex": [
       "$\\displaystyle p = \\beta g_{0} \\left(-1 + \\frac{c_{0} g_{0} v}{\\sqrt{b}} + \\frac{1 - g_{0}}{\\sqrt{b}}\\right)$"
      ],
      "text/plain": [
       "Eq(p, beta*g_0*(-1 + c_0*g_0*v/sqrt(b) + (1 - g_0)/sqrt(b)))"
      ]
     },
     "metadata": {},
     "output_type": "display_data"
    },
    {
     "data": {
      "text/latex": [
       "$\\displaystyle p = \\beta g_{0} \\left(c_{0} g_{0} v_{0} \\frac{\\partial}{\\partial x} Y{\\left(x,t \\right)} + \\left(1 - g_{0}\\right) \\frac{\\partial}{\\partial x} X{\\left(x,t \\right)} - 1\\right)$"
      ],
      "text/plain": [
       "Eq(p, beta*g_0*(c_0*g_0*v_0*Derivative(Y(x, t), x) + (1 - g_0)*Derivative(X(x, t), x) - 1))"
      ]
     },
     "metadata": {},
     "output_type": "display_data"
    },
    {
     "name": "stdout",
     "output_type": "stream",
     "text": [
      "and subsequently\n"
     ]
    },
    {
     "data": {
      "text/latex": [
       "$\\displaystyle \\partial_{x} p = \\beta g_{0} \\left(c_{0} g_{0} v_{0} \\frac{\\partial^{2}}{\\partial x^{2}} Y{\\left(x,t \\right)} + \\left(1 - g_{0}\\right) \\frac{\\partial^{2}}{\\partial x^{2}} X{\\left(x,t \\right)}\\right)$"
      ],
      "text/plain": [
       "Eq(\\partial_{x} p, beta*g_0*(c_0*g_0*v_0*Derivative(Y(x, t), (x, 2)) + (1 - g_0)*Derivative(X(x, t), (x, 2))))"
      ]
     },
     "metadata": {},
     "output_type": "display_data"
    }
   ],
   "source": [
    "#!/usr/bin/env python3\n",
    "# -*- coding: utf-8 -*-\n",
    "\"\"\"\n",
    "Created on Thu Apr  9 15:41:43 2020.\n",
    "\n",
    "@author: tagir.farkhutdinov@atco.com\n",
    "\"\"\"\n",
    "\n",
    "import sympy\n",
    "from IPython.display import display, Latex\n",
    "\n",
    "# print(__doc__)\n",
    "\n",
    "def pde_info(_sp=sympy):\n",
    "    \"\"\"Print equations.\"\"\"\n",
    "    # pylint: disable=C0103, R0914\n",
    "    x, t, rho_f, rho_s0, g_0, K = _sp.symbols('x t rho_f rho_s^0 g_0 K')\n",
    "    X, Y, P = _sp.symbols('X Y P', cls=_sp.Function)\n",
    "\n",
    "    X = X(x, t)\n",
    "    Y = Y(x, t)\n",
    "\n",
    "    u_s, u_f = _sp.symbols('u_s u_f', cls=_sp.Function)\n",
    "    u_s, u_f = u_s(x, t), u_f(x, t)\n",
    "    g, rho_s = _sp.symbols('g rho_s')\n",
    "\n",
    "    def lhs(u, denom):\n",
    "        return ((u.diff(t) + u*u.diff(x)) * denom.diff(x)\n",
    "                ).simplify().factor(fraction=False)\n",
    "\n",
    "    def simplify_eqs(eq):\n",
    "        return _sp.Eq((-eq.lhs).expand().factor(fraction=False),\n",
    "                      -eq.rhs)\n",
    "\n",
    "    p_dx_expr = P(X.diff(x), Y.diff(x)).diff(x)\n",
    "    p_dx = _sp.Symbol(\"\\\\partial_{x} P\")\n",
    "    sigma_s_dx = _sp.Symbol(\"\\\\partial_{x}(\\\\sigma_e + S)\")\n",
    "\n",
    "    def eq_builder(u_f, u_s, g, rho_s, rho_f):\n",
    "        eq_fluid = _sp.Eq(rho_f*g*lhs(u_f, x),\n",
    "                          (-g*p_dx + K*(u_s - u_f)))\n",
    "        eq_solid = _sp.Eq(rho_s*lhs(u_s, x),\n",
    "                          (+g*p_dx + sigma_s_dx + K*(u_f - u_s)))\n",
    "        eq_p_dx = _sp.Eq(-p_dx, -p_dx_expr)\n",
    "        return eq_fluid, eq_solid, eq_p_dx\n",
    "\n",
    "    def print_eqn(eq, oneline=False):\n",
    "        # pylint: disable=W0212\n",
    "        def correct_render(latex_repr):\n",
    "            return latex_repr.replace(\n",
    "                '\\\\substack', '').replace(\n",
    "                    '\\\\displaystyle', '').replace(\n",
    "                        r'\\xi_{1}', r'\\xi').replace('\\\\xi_{2}', '\\\\eta')\n",
    "        if not oneline:\n",
    "            display(Latex(correct_render(eq.lhs._repr_latex_())))\n",
    "            display(Latex('$\\\\quad=' +\n",
    "                          correct_render(eq.rhs._repr_latex_()[1:-1])\n",
    "                          + ',$'))\n",
    "        else:\n",
    "            display(Latex(correct_render(eq._repr_latex_())))\n",
    "    # Original equations\n",
    "    eq_fluid, eq_solid, eq_p_dx = eq_builder(u_f, u_s, g, rho_s, rho_f)\n",
    "    print('Fluid dynamics:')\n",
    "    print_eqn(eq_fluid)\n",
    "    print('Solid dynamics:')\n",
    "    print_eqn(eq_solid)\n",
    "\n",
    "    # Substitutions of X and Y\n",
    "    u_s = -X.diff(t)/X.diff(x)\n",
    "    u_f = -Y.diff(t)/Y.diff(x)\n",
    "    g = g_0 * Y.diff(x)\n",
    "    rho_s = rho_s0 * X.diff(x)\n",
    "    eq_fluid, eq_solid, eq_p_dx = eq_builder(u_f, u_s, g, rho_s, rho_f)\n",
    "\n",
    "    eq_fluid, eq_solid, eq_p_dx = list(\n",
    "        map(simplify_eqs, [eq_fluid, eq_solid, eq_p_dx]))\n",
    "\n",
    "    print('Fluid dynamics:')\n",
    "    print_eqn(eq_fluid)\n",
    "    print('Solid dynamics:')\n",
    "    print_eqn(eq_solid)\n",
    "    print('Pressure:')\n",
    "    print_eqn(eq_p_dx)\n",
    "\n",
    "    print('Potential energy:')\n",
    "    rho_s, rho_f = X.diff(x), g/g_0\n",
    "\n",
    "    def potential_rhs(rho_s, rho_f):\n",
    "        return (\n",
    "            _sp.Symbol('alpha')/2 * (rho_s - 1)**2\n",
    "            + _sp.Symbol('beta')/2 * (rho_f*g_0 - (1-(1-g_0)*rho_s))**2\n",
    "        )\n",
    "\n",
    "    eq_potential = _sp.Eq(_sp.Symbol('V'),\n",
    "                          potential_rhs(rho_s, rho_f)\n",
    "                          )\n",
    "    print_eqn(eq_potential, True)\n",
    "\n",
    "    b = _sp.Symbol('b')\n",
    "    rho_s = 1/_sp.sqrt(b)\n",
    "    eq_potential = _sp.Eq(_sp.Symbol('V'),\n",
    "                          potential_rhs(rho_s, rho_f)\n",
    "                          )\n",
    "    display(eq_potential)\n",
    "\n",
    "    v = _sp.Symbol('v')\n",
    "    eq_potential = _sp.Eq(_sp.Symbol('V'),\n",
    "                          potential_rhs(rho_s,\n",
    "                                        _sp.Symbol('c_0')*v/_sp.sqrt(b))\n",
    "                          )\n",
    "    display(eq_potential)\n",
    "    print('Sigma epsilon:')\n",
    "    V = _sp.symbols('V', cls=_sp.Function)\n",
    "    sigma_eps = _sp.Eq(V(b, v) + 2*V(b, v).diff(b)*b,\n",
    "                       (2*(eq_potential.rhs.diff(b))*b +\n",
    "                       eq_potential.rhs)\n",
    "                       )\n",
    "    print_eqn(sigma_eps)\n",
    "    sigma_eps = _sp.Eq(sigma_eps.lhs, sigma_eps.rhs.expand())\n",
    "    print_eqn(sigma_eps)\n",
    "\n",
    "    print('Partial_x sigma epsilon:')\n",
    "    partial_sigma_eps = _sp.Eq(_sp.Symbol('\\\\partial_{x} \\\\sigma_e'),\n",
    "                               _sp.Symbol('\\\\partial_{x}')\n",
    "                               * sigma_eps.rhs.subs(\n",
    "                                   b, 1/X.diff(x)**2\n",
    "                                   ).subs(\n",
    "                                       v,\n",
    "                                       _sp.Symbol('v_0')*Y.diff(x)/X.diff(x)))\n",
    "    print_eqn(partial_sigma_eps)\n",
    "    print('or, the whole expression = ')\n",
    "    dsigmadx = partial_sigma_eps.rhs.diff(x)/_sp.Symbol('\\\\partial_{x}')\n",
    "    # print(type(dsigmadx.args[0]))\n",
    "    display(dsigmadx.args[0])\n",
    "    print('+')\n",
    "    display((dsigmadx - dsigmadx.args[0]\n",
    "             ).subs(_sp.Symbol('v_0'), g_0\n",
    "                    ).subs(_sp.Symbol('c_0'), 1).factor())\n",
    "\n",
    "    print('We used the following formula for pore volume in derivation above:')\n",
    "    pore_vol_eq = _sp.Eq(_sp.Symbol('v')/_sp.Symbol('v_0'),\n",
    "                         Y.diff(x)/X.diff(x))\n",
    "    display(pore_vol_eq)\n",
    "\n",
    "    print(\"We'll use the same formula to find pressure\")\n",
    "    pressure_eq = _sp.Eq(_sp.Symbol('pc(b)'),\n",
    "                         eq_potential.rhs.diff(v))\n",
    "    display(pressure_eq)\n",
    "\n",
    "    print(\"or, for pressure we have\")\n",
    "    pressure_eq = _sp.Eq(_sp.Symbol('p'),\n",
    "                         pressure_eq.rhs/_sp.Symbol('c_0')*_sp.sqrt(b))\n",
    "\n",
    "    display(pressure_eq)\n",
    "    pressure_eq = _sp.Eq(_sp.Symbol('p'),\n",
    "                         pressure_eq.rhs.subs(\n",
    "                             _sp.sqrt(b), 1/X.diff(x)\n",
    "                             ).subs(_sp.Symbol('v'),\n",
    "                                    _sp.Symbol('v_0') * Y.diff(x)/X.diff(x)))\n",
    "    display(pressure_eq)\n",
    "\n",
    "    print(\"and subsequently\")\n",
    "    pressure_eq = _sp.Eq(_sp.Symbol('\\\\partial_{x} p'),\n",
    "                         pressure_eq.rhs.diff(x))\n",
    "    display(pressure_eq)\n",
    "\n",
    "    return (eq_fluid, eq_solid, eq_p_dx)\n",
    "\n",
    "\n",
    "EQUATIONS = pde_info()\n"
   ]
  },
  {
   "cell_type": "code",
   "execution_count": null,
   "metadata": {},
   "outputs": [],
   "source": []
  }
 ],
 "metadata": {
  "kernelspec": {
   "display_name": "Python 3",
   "language": "python",
   "name": "python3"
  },
  "language_info": {
   "codemirror_mode": {
    "name": "ipython",
    "version": 3
   },
   "file_extension": ".py",
   "mimetype": "text/x-python",
   "name": "python",
   "nbconvert_exporter": "python",
   "pygments_lexer": "ipython3",
   "version": "3.7.3"
  }
 },
 "nbformat": 4,
 "nbformat_minor": 4
}
