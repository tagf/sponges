{
 "cells": [
  {
   "cell_type": "code",
   "execution_count": 84,
   "metadata": {},
   "outputs": [],
   "source": [
    "#!/usr/bin/env python3\n",
    "# -*- coding: utf-8 -*-\n",
    "\"\"\"\n",
    "Created on Thu Apr  9 15:41:43 2020.\n",
    "\n",
    "@author: tagir.farkhutdinov@atco.com\n",
    "\"\"\"\n",
    "\n",
    "import sympy\n",
    "from IPython.display import display, Latex"
   ]
  },
  {
   "cell_type": "code",
   "execution_count": 2,
   "metadata": {},
   "outputs": [],
   "source": [
    "\"\"\"Print equations.\"\"\"\n",
    "# pylint: disable=C0103, R0914\n",
    "_sp = sy = sympy\n",
    "sympify = sympy.sympify\n",
    "x, t, rho_f, rho_s0, g_0, K = _sp.symbols('x t rho_f rho_s^0 g_0 K')\n",
    "X, Y, P = _sp.symbols('X Y P', cls=_sp.Function)\n",
    "\n",
    "X = X(x, t)\n",
    "Y = Y(x, t)\n",
    "\n",
    "u_s, u_f = _sp.symbols('u_s u_f', cls=_sp.Function)\n",
    "u_s, u_f = u_s(x, t), u_f(x, t)\n",
    "g, rho_s = _sp.symbols('g rho_s')\n",
    "\n",
    "def lhs(u, denom):\n",
    "    return ((u.diff(t) + u*u.diff(x)) * denom.diff(x)\n",
    "            ).simplify().factor(fraction=False)\n",
    "\n",
    "def simplify_eqs(eq):\n",
    "    return _sp.Eq((-eq.lhs).expand().factor(fraction=False),\n",
    "                  -eq.rhs)\n",
    "\n",
    "p_dx_expr = P(X.diff(x), Y.diff(x)).diff(x)\n",
    "p_dx = _sp.Symbol(\"\\\\partial_{x} P\")\n",
    "sigma_s_dx = _sp.Symbol(\"\\\\partial_{x}(\\\\sigma_e + S)\")\n",
    "\n",
    "def eq_builder(u_f, u_s, g, rho_s, rho_f):\n",
    "    eq_fluid = _sp.Eq(rho_f*g*lhs(u_f, x),\n",
    "                      (-g*sympify('(p(x,t) + mu(x, t))').diff(x) + K*(u_s - u_f)))\n",
    "    eq_solid = _sp.Eq(rho_s*lhs(u_s, x),\n",
    "                      (+g*sympify('p(x,t)').diff(x) - (1-g)*sympify('mu(x,t)').diff(x) + sigma_s_dx + K*(u_f - u_s)))\n",
    "    eq_p_dx = _sp.Eq(-p_dx, -p_dx_expr)\n",
    "    return eq_fluid, eq_solid, eq_p_dx\n",
    "\n",
    "def subscr_partials(eq, before, after):\n",
    "    return eq.subs(sympify(before).diff(t, t), sympify(after + '_tt')\n",
    "                  ).subs(sympify(before).diff(x, x), sympify(after + '_xx')\n",
    "                        ).subs(sympify(before).diff(x, t), sympify(after + '_xt')\n",
    "                              ).subs(sympify(before).diff(x), sympify(after + '_x')\n",
    "                                    ).subs(sympify(before).diff(t), sympify(after + '_t')\n",
    "                                          )\n",
    "                                     \n",
    "def nice_partials(eq):\n",
    "    return subscr_partials(subscr_partials(eq, 'Y(x, t)', 'Y'), 'X(x, t)', 'X')\n",
    "\n",
    "def print_eqn(eq, oneline=True, nicepartials=True):\n",
    "    # pylint: disable=W0212\n",
    "    eq = nice_partials(eq)\n",
    "    def correct_render(latex_repr):\n",
    "        return latex_repr.replace(\n",
    "            '\\\\substack', '').replace(\n",
    "                '\\\\displaystyle', '').replace(\n",
    "                    r'\\xi_{1}', r'\\xi').replace('\\\\xi_{2}', '\\\\eta')\n",
    "    if not oneline:\n",
    "        display(Latex(correct_render(eq.lhs._repr_latex_())))\n",
    "        display(Latex('$\\\\quad=' +\n",
    "                      correct_render(eq.rhs._repr_latex_()[1:-1])\n",
    "                      + ',$'))\n",
    "    else:\n",
    "        display(Latex(correct_render(eq._repr_latex_())))\n"
   ]
  },
  {
   "cell_type": "code",
   "execution_count": 3,
   "metadata": {},
   "outputs": [
    {
     "name": "stdout",
     "output_type": "stream",
     "text": [
      "Fluid dynamics:\n"
     ]
    },
    {
     "data": {
      "text/latex": [
       "$ g \\rho_{f} \\left(\\operatorname{u_{f}}{\\left(x,t \\right)} \\frac{\\partial}{\\partial x} \\operatorname{u_{f}}{\\left(x,t \\right)} + \\frac{\\partial}{\\partial t} \\operatorname{u_{f}}{\\left(x,t \\right)}\\right) = K \\left(- \\operatorname{u_{f}}{\\left(x,t \\right)} + \\operatorname{u_{s}}{\\left(x,t \\right)}\\right) - g \\left(\\frac{\\partial}{\\partial x} \\mu{\\left(x,t \\right)} + \\frac{\\partial}{\\partial x} p{\\left(x,t \\right)}\\right)$"
      ],
      "text/plain": [
       "<IPython.core.display.Latex object>"
      ]
     },
     "metadata": {},
     "output_type": "display_data"
    },
    {
     "name": "stdout",
     "output_type": "stream",
     "text": [
      "Solid dynamics:\n"
     ]
    },
    {
     "data": {
      "text/latex": [
       "$ \\rho_{s} \\left(\\operatorname{u_{s}}{\\left(x,t \\right)} \\frac{\\partial}{\\partial x} \\operatorname{u_{s}}{\\left(x,t \\right)} + \\frac{\\partial}{\\partial t} \\operatorname{u_{s}}{\\left(x,t \\right)}\\right) = K \\left(\\operatorname{u_{f}}{\\left(x,t \\right)} - \\operatorname{u_{s}}{\\left(x,t \\right)}\\right) + \\partial_{x}(\\sigma_e + S) + g \\frac{\\partial}{\\partial x} p{\\left(x,t \\right)} - \\left(1 - g\\right) \\frac{\\partial}{\\partial x} \\mu{\\left(x,t \\right)}$"
      ],
      "text/plain": [
       "<IPython.core.display.Latex object>"
      ]
     },
     "metadata": {},
     "output_type": "display_data"
    },
    {
     "name": "stdout",
     "output_type": "stream",
     "text": [
      "Dynamics of fluid and solid after substitution:\n"
     ]
    },
    {
     "data": {
      "text/latex": [
       "$ g_{0} \\rho_{f} \\left(\\frac{Y_{t}^{2} Y_{xx}}{Y_{x}^{2}} - \\frac{2 Y_{t} Y_{xt}}{Y_{x}} + Y_{tt}\\right) = - K \\left(- \\frac{X_{t}}{X_{x}} + \\frac{Y_{t}}{Y_{x}}\\right) + Y_{x} g_{0} \\left(\\frac{\\partial}{\\partial x} \\mu{\\left(x,t \\right)} + \\frac{\\partial}{\\partial x} p{\\left(x,t \\right)}\\right)$"
      ],
      "text/plain": [
       "<IPython.core.display.Latex object>"
      ]
     },
     "metadata": {},
     "output_type": "display_data"
    },
    {
     "data": {
      "text/latex": [
       "$ \\rho^{0}_{s} \\left(\\frac{X_{t}^{2} X_{xx}}{X_{x}^{2}} - \\frac{2 X_{t} X_{xt}}{X_{x}} + X_{tt}\\right) = - K \\left(\\frac{X_{t}}{X_{x}} - \\frac{Y_{t}}{Y_{x}}\\right) - Y_{x} g_{0} \\frac{\\partial}{\\partial x} p{\\left(x,t \\right)} - \\partial_{x}(\\sigma_e + S) + \\left(- Y_{x} g_{0} + 1\\right) \\frac{\\partial}{\\partial x} \\mu{\\left(x,t \\right)}$"
      ],
      "text/plain": [
       "<IPython.core.display.Latex object>"
      ]
     },
     "metadata": {},
     "output_type": "display_data"
    },
    {
     "name": "stdout",
     "output_type": "stream",
     "text": [
      "Pressure:\n"
     ]
    },
    {
     "data": {
      "text/latex": [
       "$ \\partial_{x} P = X_{xx} \\left. \\frac{\\partial}{\\partial \\xi} P{\\left(\\xi,Y_{x} \\right)} \\right|_{{ \\xi=X_{x} }} + Y_{xx} \\left. \\frac{\\partial}{\\partial \\eta} P{\\left(X_{x},\\eta \\right)} \\right|_{{ \\eta=Y_{x} }}$"
      ],
      "text/plain": [
       "<IPython.core.display.Latex object>"
      ]
     },
     "metadata": {},
     "output_type": "display_data"
    }
   ],
   "source": [
    "# Original equations\n",
    "eq_fluid, eq_solid, eq_p_dx = eq_builder(u_f, u_s, g, rho_s, rho_f)\n",
    "print('Fluid dynamics:')\n",
    "print_eqn(eq_fluid, True)\n",
    "print('Solid dynamics:')\n",
    "print_eqn(eq_solid, True)\n",
    "# Substitutions of X and Y\n",
    "u_s_ = -X.diff(t)/X.diff(x)\n",
    "u_f_ = -Y.diff(t)/Y.diff(x)\n",
    "g_ = g_0 * Y.diff(x)\n",
    "rho_s_ = rho_s0 * X.diff(x)\n",
    "eq_fluid, eq_solid, eq_p_dx = eq_builder(u_f_, u_s_, g_, rho_s_, rho_f)\n",
    "\n",
    "eq_fluid, eq_solid, eq_p_dx = list(\n",
    "    map(simplify_eqs, [eq_fluid, eq_solid, eq_p_dx]))\n",
    "\n",
    "print('Dynamics of fluid and solid after substitution:')\n",
    "print_eqn(eq_fluid, True)\n",
    "print_eqn(eq_solid, True)\n",
    "print('Pressure:')\n",
    "print_eqn(eq_p_dx, True)"
   ]
  },
  {
   "cell_type": "code",
   "execution_count": 4,
   "metadata": {},
   "outputs": [
    {
     "name": "stdout",
     "output_type": "stream",
     "text": [
      "Total incompressibility:\n",
      "DON'T WORRY about missing braces after partials x,\n",
      "it's solely a sympy representation bug):\n"
     ]
    },
    {
     "data": {
      "text/latex": [
       "$ \\frac{\\partial}{\\partial x} g \\operatorname{u_{f}}{\\left(x,t \\right)} = - \\frac{\\partial}{\\partial x} \\left(1 - g\\right) \\operatorname{u_{s}}{\\left(x,t \\right)}$"
      ],
      "text/plain": [
       "<IPython.core.display.Latex object>"
      ]
     },
     "metadata": {},
     "output_type": "display_data"
    },
    {
     "name": "stdout",
     "output_type": "stream",
     "text": [
      "After substitutions:\n"
     ]
    },
    {
     "data": {
      "text/latex": [
       "$ \\frac{\\partial}{\\partial x} - Y_{t} g_{0} = - \\frac{\\partial}{\\partial x} - \\frac{X_{t} \\left(- Y_{x} g_{0} + 1\\right)}{X_{x}}$"
      ],
      "text/plain": [
       "<IPython.core.display.Latex object>"
      ]
     },
     "metadata": {},
     "output_type": "display_data"
    },
    {
     "data": {
      "text/latex": [
       "$ - Y_{xt} g_{0} = - \\frac{X_{t} Y_{xx} g_{0}}{X_{x}} - \\frac{X_{t} X_{xx} \\left(- Y_{x} g_{0} + 1\\right)}{X_{x}^{2}} + \\frac{X_{xt} \\left(- Y_{x} g_{0} + 1\\right)}{X_{x}}$"
      ],
      "text/plain": [
       "<IPython.core.display.Latex object>"
      ]
     },
     "metadata": {},
     "output_type": "display_data"
    },
    {
     "name": "stdout",
     "output_type": "stream",
     "text": [
      "Multipled by X_x**2:\n"
     ]
    },
    {
     "data": {
      "text/latex": [
       "$ X_{x} g_{0} \\left(X_{t} Y_{xx} - X_{x} Y_{xt}\\right) = \\left(X_{t} X_{xx} - X_{x} X_{xt}\\right) \\left(Y_{x} g_{0} - 1\\right)$"
      ],
      "text/plain": [
       "<IPython.core.display.Latex object>"
      ]
     },
     "metadata": {},
     "output_type": "display_data"
    },
    {
     "name": "stdout",
     "output_type": "stream",
     "text": [
      "In our paper\n"
     ]
    },
    {
     "data": {
      "text/latex": [
       "$ X_{t} \\left(- Y_{x} g_{0} + 1\\right) + X_{x} Y_{t} g_{0} = 0$"
      ],
      "text/plain": [
       "<IPython.core.display.Latex object>"
      ]
     },
     "metadata": {},
     "output_type": "display_data"
    },
    {
     "name": "stdout",
     "output_type": "stream",
     "text": [
      "- Partial wrt x\n"
     ]
    },
    {
     "data": {
      "text/latex": [
       "$ X_{t} Y_{xx} g_{0} - X_{x} Y_{xt} g_{0} - X_{xt} \\left(- Y_{x} g_{0} + 1\\right) - X_{xx} Y_{t} g_{0} = 0$"
      ],
      "text/plain": [
       "<IPython.core.display.Latex object>"
      ]
     },
     "metadata": {},
     "output_type": "display_data"
    },
    {
     "name": "stdout",
     "output_type": "stream",
     "text": [
      "It seems that it should be \n"
     ]
    },
    {
     "data": {
      "text/latex": [
       "$ - X_{x}^{3} g_{0} \\frac{\\partial}{\\partial x} \\frac{Y_{t}}{X_{x}} = X_{x}^{2} \\left(- Y_{x} g_{0} + 1\\right) \\frac{\\partial}{\\partial x} \\frac{X_{t}}{X_{x}}$"
      ],
      "text/plain": [
       "<IPython.core.display.Latex object>"
      ]
     },
     "metadata": {},
     "output_type": "display_data"
    },
    {
     "name": "stdout",
     "output_type": "stream",
     "text": [
      "Partial wrt x\n"
     ]
    },
    {
     "data": {
      "text/latex": [
       "$ X_{x} g_{0} \\left(- X_{x} Y_{xt} + X_{xx} Y_{t}\\right) = \\left(X_{t} X_{xx} - X_{x} X_{xt}\\right) \\left(Y_{x} g_{0} - 1\\right)$"
      ],
      "text/plain": [
       "<IPython.core.display.Latex object>"
      ]
     },
     "metadata": {},
     "output_type": "display_data"
    }
   ],
   "source": [
    "print(\"Total incompressibility:\")\n",
    "print(\"DON'T WORRY about missing braces after partials x,\\nit's solely a sympy representation bug):\")\n",
    "\n",
    "def eq_incompr(g, u_f, u_s): return sy.Eq(sy.Derivative(g*u_f, x),\n",
    "                                          -sy.Derivative(((1-g)*u_s), x))\n",
    "print_eqn(eq_incompr(g, u_f, u_s), True)\n",
    "\n",
    "print(\"After substitutions:\")\n",
    "print_eqn(eq_incompr(g_, u_f_, u_s_), True)\n",
    "print_eqn(eq_incompr(g_, u_f_, u_s_).doit(), True)\n",
    "print(\"Multipled by X_x**2:\")\n",
    "print_eqn(sy.Eq((X.diff(x)**2 * \n",
    "                (eq_incompr(g_, u_f_, u_s_).doit().lhs + g_0*X.diff(t)*Y.diff(x, x)/X.diff(x))),\n",
    "                (X.diff(x)**2 * \n",
    "                 (eq_incompr(g_, u_f_, u_s_).doit().rhs + g_0*X.diff(t)*Y.diff(x, x)/X.diff(x))\n",
    "                )\n",
    "               ).simplify()\n",
    "         )\n",
    "\n",
    "print(\"In our paper\")\n",
    "print_eqn(sy.Eq(g_0 * X.diff(x) * Y.diff(t) + (1 - g_0 * Y.diff(x)) * X.diff(t), 0))\n",
    "print(\"- Partial wrt x\")\n",
    "print_eqn(sy.Eq(-(g_0 * X.diff(x) * Y.diff(t) + (1 - g_0 * Y.diff(x)) * X.diff(t)).diff(x), 0))\n",
    "\n",
    "print(\"It seems that it should be \")\n",
    "eq_incompr_correct = sy.Eq(\n",
    "    -g_0 * sy.Derivative(Y.diff(t)/X.diff(x), x) * X.diff(x)**3,\n",
    "    (1 - g_)*sy.Derivative(X.diff(t)/X.diff(x), x) * X.diff(x)**2\n",
    ")\n",
    "print_eqn(eq_incompr_correct)\n",
    "print(\"Partial wrt x\")\n",
    "print_eqn(sy.Eq((eq_incompr_correct.lhs.doit()).simplify(),\n",
    "                (eq_incompr_correct.rhs.doit()).simplify())\n",
    "         )"
   ]
  },
  {
   "cell_type": "code",
   "execution_count": 5,
   "metadata": {},
   "outputs": [
    {
     "data": {
      "text/latex": [
       "$ \\frac{\\partial}{\\partial t} g \\operatorname{u_{f}}{\\left(x,t \\right)} = - \\frac{\\partial}{\\partial t} \\left(1 - g\\right) \\operatorname{u_{s}}{\\left(x,t \\right)}$"
      ],
      "text/plain": [
       "<IPython.core.display.Latex object>"
      ]
     },
     "metadata": {},
     "output_type": "display_data"
    },
    {
     "name": "stdout",
     "output_type": "stream",
     "text": [
      "After substitutions:\n"
     ]
    },
    {
     "data": {
      "text/latex": [
       "$ \\frac{\\partial}{\\partial t} - Y_{t} g_{0} = - \\frac{\\partial}{\\partial t} - \\frac{X_{t} \\left(- Y_{x} g_{0} + 1\\right)}{X_{x}}$"
      ],
      "text/plain": [
       "<IPython.core.display.Latex object>"
      ]
     },
     "metadata": {},
     "output_type": "display_data"
    },
    {
     "data": {
      "text/latex": [
       "$ - Y_{tt} g_{0} = - \\frac{X_{t} Y_{xt} g_{0}}{X_{x}} - \\frac{X_{t} X_{xt} \\left(- Y_{x} g_{0} + 1\\right)}{X_{x}^{2}} + \\frac{X_{tt} \\left(- Y_{x} g_{0} + 1\\right)}{X_{x}}$"
      ],
      "text/plain": [
       "<IPython.core.display.Latex object>"
      ]
     },
     "metadata": {},
     "output_type": "display_data"
    },
    {
     "name": "stdout",
     "output_type": "stream",
     "text": [
      "We introduce\n"
     ]
    },
    {
     "data": {
      "text/latex": [
       "$ X_{tt} = R_{X} + \\frac{\\left(- Y_{x} g_{0} + 1\\right) \\frac{\\partial}{\\partial x} \\mu{\\left(x,t \\right)}}{\\rho^{0}_{s}}$"
      ],
      "text/plain": [
       "<IPython.core.display.Latex object>"
      ]
     },
     "metadata": {},
     "output_type": "display_data"
    },
    {
     "data": {
      "text/latex": [
       "$ Y_{tt} = R_{Y} + \\frac{Y_{x} \\frac{\\partial}{\\partial x} \\mu{\\left(x,t \\right)}}{\\rho_{f}}$"
      ],
      "text/plain": [
       "<IPython.core.display.Latex object>"
      ]
     },
     "metadata": {},
     "output_type": "display_data"
    },
    {
     "name": "stdout",
     "output_type": "stream",
     "text": [
      "and substitute into the time derivative of incomressibility\n"
     ]
    },
    {
     "data": {
      "text/latex": [
       "$ - g_{0} \\left(R_{Y} + \\frac{Y_{x} \\mu_{x}}{\\rho_{f}}\\right) = - \\frac{X_{t} Y_{xt} g_{0}}{X_{x}} - \\frac{X_{t} X_{xt} \\left(- Y_{x} g_{0} + 1\\right)}{X_{x}^{2}} + \\frac{\\left(R_{X} + \\frac{\\mu_{x} \\left(- Y_{x} g_{0} + 1\\right)}{\\rho^{0}_{s}}\\right) \\left(- Y_{x} g_{0} + 1\\right)}{X_{x}}$"
      ],
      "text/plain": [
       "<IPython.core.display.Latex object>"
      ]
     },
     "metadata": {},
     "output_type": "display_data"
    },
    {
     "name": "stdout",
     "output_type": "stream",
     "text": [
      "Collect terms with mu_x\n"
     ]
    },
    {
     "data": {
      "text/latex": [
       "$ \\frac{\\mu_{x} \\left(- X_{x} Y_{x} g_{0} \\rho^{0}_{s} + \\rho_{f} \\left(- Y_{x}^{2} g_{0}^{2} + 2 Y_{x} g_{0} - 1\\right)\\right)}{\\rho_{f} \\rho^{0}_{s}} = R_{X} \\left(- Y_{x} g_{0} + 1\\right) + R_{Y} X_{x} g_{0} - X_{t} Y_{xt} g_{0} + \\frac{X_{t} X_{xt} Y_{x} g_{0}}{X_{x}} - \\frac{X_{t} X_{xt}}{X_{x}}$"
      ],
      "text/plain": [
       "<IPython.core.display.Latex object>"
      ]
     },
     "metadata": {},
     "output_type": "display_data"
    }
   ],
   "source": [
    "# Total incompressibility w.r.t. Time\n",
    "def incompr_t(g, u_f, u_s): return sy.Eq(sy.Derivative(g*u_f, t),\n",
    "                                          -sy.Derivative(((1-g)*u_s), t))\n",
    "\n",
    "print_eqn(incompr_t(g, u_f, u_s), True)\n",
    "\n",
    "print(\"After substitutions:\")\n",
    "print_eqn(incompr_t(g_, u_f_, u_s_), True)\n",
    "print_eqn(incompr_t(g_, u_f_, u_s_).doit(), True)\n",
    "\n",
    "print(\"We introduce\")\n",
    "mu = sympify('mu(x, t)')\n",
    "X_tt = sy.Eq(sympify('X_tt'),\n",
    "             sympify('R_X') + (1 - g_0*Y.diff(x))/rho_s0 * mu.diff(x))\n",
    "Y_tt = sy.Eq(sympify('Y_tt'),\n",
    "             sympify('R_Y') + Y.diff(x)/rho_f * mu.diff(x))\n",
    "print_eqn(X_tt)\n",
    "print_eqn(Y_tt)\n",
    "\n",
    "print(\"and substitute into the time derivative of incomressibility\")\n",
    "incompr_t_done = incompr_t(g_, u_f_, u_s_\n",
    "                          ).doit().subs(Y.diff(t, t), Y_tt.rhs\n",
    "                                       ).subs(X.diff(t, t), X_tt.rhs\n",
    "                                             ).subs(mu.diff(x), sympify('mu_x')\n",
    "                                                   )\n",
    "\n",
    "print_eqn(incompr_t_done)\n",
    "mu_eq = nice_partials(incompr_t_done.lhs - incompr_t_done.rhs\n",
    "                      ).expand().collect(sympify('mu_x')\n",
    "                                        ) * sympify('X_x')\n",
    "mu_eq = mu_eq.expand()\n",
    "print(\"Collect terms with mu_x\")\n",
    "# print_eqn(mu_eq)\n",
    "mu_coef = mu_eq.coeff(sympify('mu_x'), 1).simplify()\n",
    "mu_eq = sy.Eq(mu_coef*sympify('mu_x'),\n",
    "              (mu_coef*sympify('mu_x') - mu_eq).simplify().collect(sympify('R_X')))\n",
    "print_eqn(mu_eq)"
   ]
  },
  {
   "cell_type": "code",
   "execution_count": 67,
   "metadata": {},
   "outputs": [
    {
     "name": "stdout",
     "output_type": "stream",
     "text": [
      "Potential energy definition and transformations:\n"
     ]
    },
    {
     "data": {
      "text/latex": [
       "$ V{\\left(X_{x},\\frac{g}{g_{0}} \\right)} = \\frac{\\alpha \\left(X_{x} - 1\\right)^{2}}{2} + \\frac{\\beta \\left(X_{x} \\left(1 - g_{0}\\right) + g - 1\\right)^{2}}{2} + \\frac{\\gamma \\left(1 - g\\right) \\left(X_{x} - 1\\right)^{2}}{2}$"
      ],
      "text/plain": [
       "<IPython.core.display.Latex object>"
      ]
     },
     "metadata": {},
     "output_type": "display_data"
    },
    {
     "data": {
      "text/latex": [
       "$ V{\\left(\\frac{1}{\\sqrt{b}},\\frac{g}{g_{0}} \\right)} = \\frac{\\alpha \\left(-1 + \\frac{1}{\\sqrt{b}}\\right)^{2}}{2} + \\frac{\\beta \\left(g - 1 + \\frac{1 - g_{0}}{\\sqrt{b}}\\right)^{2}}{2} + \\frac{\\gamma \\left(-1 + \\frac{1}{\\sqrt{b}}\\right)^{2} \\left(1 - g\\right)}{2}$"
      ],
      "text/plain": [
       "<IPython.core.display.Latex object>"
      ]
     },
     "metadata": {},
     "output_type": "display_data"
    },
    {
     "data": {
      "text/latex": [
       "$ V{\\left(\\frac{1}{\\sqrt{b}},\\frac{c_{0} v}{\\sqrt{b}} \\right)} = \\frac{\\alpha \\left(-1 + \\frac{1}{\\sqrt{b}}\\right)^{2}}{2} + \\frac{\\beta \\left(-1 + \\frac{c_{0} g_{0} v}{\\sqrt{b}} + \\frac{1 - g_{0}}{\\sqrt{b}}\\right)^{2}}{2} + \\frac{\\gamma \\left(-1 + \\frac{1}{\\sqrt{b}}\\right)^{2} \\left(1 - \\frac{c_{0} g_{0} v}{\\sqrt{b}}\\right)}{2}$"
      ],
      "text/plain": [
       "<IPython.core.display.Latex object>"
      ]
     },
     "metadata": {},
     "output_type": "display_data"
    }
   ],
   "source": [
    "rho_s = X.diff(x)\n",
    "V = sy.symbols('V', cls=sy.Function)\n",
    "b, v = sy.symbols('b v')\n",
    "\n",
    "def potential_eqn(rho_s, rho_f):\n",
    "    V = sy.symbols('V', cls=sy.Function)\n",
    "    return sy.Eq(V(rho_s, rho_f),\n",
    "        sy.Symbol('alpha')/2 * (rho_s - 1)**2\n",
    "        + sy.Symbol('beta')/2 * (rho_f*g_0 - (1-(1-g_0)*rho_s))**2\n",
    "        + sy.Symbol('gamma')/2 * (1 - rho_f*g_0) * (rho_s - 1)**2 \n",
    "    )\n",
    "\n",
    "print('Potential energy definition and transformations:')\n",
    "eq_potential = potential_eqn(X.diff(x), g/g_0)\n",
    "print_eqn(eq_potential)\n",
    "\n",
    "eq_potential = eq_potential.subs(X.diff(x), 1/_sp.sqrt(b))\n",
    "print_eqn(eq_potential)\n",
    "\n",
    "eq_potential = eq_potential.subs(sympify('g'), sympify('g_0*c_0')*v / sy.sqrt(b))\n",
    "print_eqn(eq_potential)"
   ]
  },
  {
   "cell_type": "code",
   "execution_count": 82,
   "metadata": {},
   "outputs": [
    {
     "name": "stdout",
     "output_type": "stream",
     "text": [
      "Sigma epsilon:\n"
     ]
    },
    {
     "data": {
      "text/latex": [
       "$ \\sigma_{e} = 2 b \\frac{\\partial}{\\partial b} V{\\left(v,b \\right)} + V{\\left(v,b \\right)}$"
      ],
      "text/plain": [
       "<IPython.core.display.Latex object>"
      ]
     },
     "metadata": {},
     "output_type": "display_data"
    },
    {
     "data": {
      "text/latex": [
       "$ \\sigma_{e} = \\frac{\\alpha \\left(-1 + \\frac{1}{\\sqrt{b}}\\right)^{2}}{2} + 2 b \\left(- \\frac{\\alpha \\left(-1 + \\frac{1}{\\sqrt{b}}\\right)}{2 b^{\\frac{3}{2}}} + \\frac{\\beta \\left(- \\frac{c_{0} g_{0} v}{b^{\\frac{3}{2}}} - \\frac{1 - g_{0}}{b^{\\frac{3}{2}}}\\right) \\left(-1 + \\frac{c_{0} g_{0} v}{\\sqrt{b}} + \\frac{1 - g_{0}}{\\sqrt{b}}\\right)}{2} + \\frac{c_{0} g_{0} \\gamma v \\left(-1 + \\frac{1}{\\sqrt{b}}\\right)^{2}}{4 b^{\\frac{3}{2}}} - \\frac{\\gamma \\left(-1 + \\frac{1}{\\sqrt{b}}\\right) \\left(1 - \\frac{c_{0} g_{0} v}{\\sqrt{b}}\\right)}{2 b^{\\frac{3}{2}}}\\right) + \\frac{\\beta \\left(-1 + \\frac{c_{0} g_{0} v}{\\sqrt{b}} + \\frac{1 - g_{0}}{\\sqrt{b}}\\right)^{2}}{2} + \\frac{\\gamma \\left(-1 + \\frac{1}{\\sqrt{b}}\\right)^{2} \\left(1 - \\frac{c_{0} g_{0} v}{\\sqrt{b}}\\right)}{2}$"
      ],
      "text/plain": [
       "<IPython.core.display.Latex object>"
      ]
     },
     "metadata": {},
     "output_type": "display_data"
    },
    {
     "name": "stdout",
     "output_type": "stream",
     "text": [
      "Back substitutions of X and Y\n"
     ]
    },
    {
     "data": {
      "text/latex": [
       "$ \\sigma_{e} = - \\frac{\\alpha \\left(X_{x} - 1\\right) \\left(X_{x} + 1\\right)}{2} - \\frac{\\beta \\left(X_{x} g_{0} - X_{x} - Y_{x} g_{0}^{2} - 1\\right) \\left(X_{x} g_{0} - X_{x} - Y_{x} g_{0}^{2} + 1\\right)}{2} + \\frac{\\gamma \\left(X_{x} - 1\\right) \\left(2 X_{x} Y_{x} g_{0}^{2} - X_{x} - 1\\right)}{2}$"
      ],
      "text/plain": [
       "<IPython.core.display.Latex object>"
      ]
     },
     "metadata": {},
     "output_type": "display_data"
    },
    {
     "name": "stdout",
     "output_type": "stream",
     "text": [
      "We used the following formula for the pore volume in derivation above\n"
     ]
    },
    {
     "data": {
      "text/latex": [
       "$ v = \\frac{Y_{x} g_{0}}{X_{x} c_{0}}$"
      ],
      "text/plain": [
       "<IPython.core.display.Latex object>"
      ]
     },
     "metadata": {},
     "output_type": "display_data"
    },
    {
     "name": "stdout",
     "output_type": "stream",
     "text": [
      "Derivative of sigma_e w.r.t. x\n"
     ]
    },
    {
     "data": {
      "text/latex": [
       "$ \\frac{\\partial}{\\partial x} \\sigma_{e}{\\left(x,t \\right)} = - X_{x} X_{xx} \\alpha - \\beta \\left(X_{x} g_{0} - X_{x} - Y_{x} g_{0}^{2}\\right) \\left(X_{xx} g_{0} - X_{xx} - Y_{xx} g_{0}^{2}\\right) + \\gamma \\left(X_{x}^{2} Y_{xx} g_{0}^{2} + 2 X_{x} X_{xx} Y_{x} g_{0}^{2} - X_{x} X_{xx} - X_{x} Y_{xx} g_{0}^{2} - X_{xx} Y_{x} g_{0}^{2}\\right)$"
      ],
      "text/plain": [
       "<IPython.core.display.Latex object>"
      ]
     },
     "metadata": {},
     "output_type": "display_data"
    }
   ],
   "source": [
    "print('Sigma epsilon:')\n",
    "b, v = sympify('b, v')\n",
    "V = sympify('V(v, b)')\n",
    "sigma_e = sy.Eq(sympify('sigma_e'), V + 2*sy.Derivative(V, b)*b)\n",
    "print_eqn(sigma_e)\n",
    "\n",
    "sigma_e = sigma_e.subs(V, eq_potential.rhs).doit()\n",
    "print_eqn(sigma_e)\n",
    "\n",
    "print('Back substitutions of X and Y')\n",
    "sigma_e = sigma_e.subs(sy.sqrt(b), 1/X.diff(x)\n",
    "                      ).subs(v, sympify('g_0/c_0')*Y.diff(x)/X.diff(x)\n",
    "                            ).simplify()\n",
    "\n",
    "\n",
    "def collect(expr, symbols):\n",
    "    result = sympify(0)\n",
    "    for symbol in symbols:\n",
    "        coeff = sy.collect(expr.expand(), symbol).coeff(symbol, 1).factor()\n",
    "        result += symbol*coeff\n",
    "    return result\n",
    "\n",
    "def collect_eq(eq, symbols):\n",
    "    result = sympify(0)\n",
    "    rhs = eq.rhs.expand()\n",
    "    for symbol in symbols:\n",
    "        coeff = sy.collect(rhs, symbol).coeff(symbol, 1).factor()\n",
    "        result += symbol*coeff\n",
    "    return sy.Eq(eq.lhs, result)\n",
    "\n",
    "sigma_e = collect_eq(sigma_e, sy.symbols('alpha beta gamma'))\n",
    "print_eqn(sigma_e)\n",
    "\n",
    "print('We used the following formula for the pore volume in derivation above')\n",
    "pore_vol_eq = sy.Eq(v, sympify('g_0/c_0')*Y.diff(x)/X.diff(x))\n",
    "print_eqn(pore_vol_eq)\n",
    "\n",
    "print('Derivative of sigma_e w.r.t. x')\n",
    "sigma_e_x = sy.Eq(sy.Derivative(sympify('sigma_e(x, t)'), x),\n",
    "                  sigma_e.rhs.diff(x).simplify())\n",
    "print_eqn(collect_eq(sigma_e_x, sy.symbols('alpha beta gamma')))"
   ]
  },
  {
   "cell_type": "code",
   "execution_count": 83,
   "metadata": {},
   "outputs": [
    {
     "name": "stdout",
     "output_type": "stream",
     "text": [
      "Finally, let's compute the pressure, using the potential\n"
     ]
    },
    {
     "data": {
      "text/latex": [
       "$ p c{\\left(b \\right)} = \\frac{\\partial}{\\partial v} V{\\left(v,b \\right)}$"
      ],
      "text/plain": [
       "<IPython.core.display.Latex object>"
      ]
     },
     "metadata": {},
     "output_type": "display_data"
    },
    {
     "data": {
      "text/latex": [
       "$ p c{\\left(b \\right)} = \\frac{\\beta c_{0} g_{0} \\left(-1 + \\frac{c_{0} g_{0} v}{\\sqrt{b}} + \\frac{1 - g_{0}}{\\sqrt{b}}\\right)}{\\sqrt{b}} - \\frac{c_{0} g_{0} \\gamma \\left(-1 + \\frac{1}{\\sqrt{b}}\\right)^{2}}{2 \\sqrt{b}}$"
      ],
      "text/plain": [
       "<IPython.core.display.Latex object>"
      ]
     },
     "metadata": {},
     "output_type": "display_data"
    },
    {
     "name": "stdout",
     "output_type": "stream",
     "text": [
      "That gives us\n"
     ]
    },
    {
     "data": {
      "text/latex": [
       "$ p = - \\frac{g_{0} \\left(2 b^{\\frac{3}{2}} \\beta \\left(\\sqrt{b} - c_{0} g_{0} v + g_{0} - 1\\right) + b \\gamma \\left(\\sqrt{b} - 1\\right)^{2}\\right)}{2 b^{2}}$"
      ],
      "text/plain": [
       "<IPython.core.display.Latex object>"
      ]
     },
     "metadata": {},
     "output_type": "display_data"
    },
    {
     "name": "stdout",
     "output_type": "stream",
     "text": [
      "Back substitutions of X and Y\n"
     ]
    },
    {
     "data": {
      "text/latex": [
       "$ p = \\frac{g_{0} \\left(2 \\beta \\left(X_{x} \\left(1 - g_{0}\\right) + Y_{x} g_{0}^{2} - 1\\right) - \\gamma \\left(X_{x} - 1\\right)^{2}\\right)}{2}$"
      ],
      "text/plain": [
       "<IPython.core.display.Latex object>"
      ]
     },
     "metadata": {},
     "output_type": "display_data"
    },
    {
     "name": "stdout",
     "output_type": "stream",
     "text": [
      "Derivative of pressure w.r.t. x\n"
     ]
    },
    {
     "data": {
      "text/latex": [
       "$ \\frac{\\partial}{\\partial x} p{\\left(x,t \\right)} = g_{0} \\left(- X_{xx} \\gamma \\left(X_{x} - 1\\right) + \\beta \\left(- X_{xx} \\left(g_{0} - 1\\right) + Y_{xx} g_{0}^{2}\\right)\\right)$"
      ],
      "text/plain": [
       "<IPython.core.display.Latex object>"
      ]
     },
     "metadata": {},
     "output_type": "display_data"
    }
   ],
   "source": [
    "print(\"Finally, let's compute the pressure, using the potential\")\n",
    "pressure_eq = _sp.Eq(sympify('p*c(b)'), V.diff(v))\n",
    "\n",
    "print_eqn(pressure_eq)\n",
    "pressure_eq = pressure_eq.subs(V, eq_potential.rhs).doit()\n",
    "print_eqn(pressure_eq)\n",
    "\n",
    "print(\"That gives us\")\n",
    "pressure_eq = sy.Eq(sympify('p'), pressure_eq.rhs / (sympify('c_0') / sy.sqrt(b))).simplify()\n",
    "print_eqn(pressure_eq)\n",
    "\n",
    "print('Back substitutions of X and Y')\n",
    "pressure_eq = pressure_eq.subs(sy.sqrt(b), 1/X.diff(x)\n",
    "                              ).subs(v, sympify('g_0/c_0')*Y.diff(x)/X.diff(x)\n",
    "                                    ).simplify()\n",
    "print_eqn(pressure_eq)\n",
    "\n",
    "print('Derivative of pressure w.r.t. x')\n",
    "pressure_x = sy.Eq(sy.Derivative(sympify('p(x, t)'), x), pressure_eq.rhs.diff(x).simplify())\n",
    "print_eqn(pressure_x)"
   ]
  }
 ],
 "metadata": {
  "kernelspec": {
   "display_name": "Python 3",
   "language": "python",
   "name": "python3"
  },
  "language_info": {
   "codemirror_mode": {
    "name": "ipython",
    "version": 3
   },
   "file_extension": ".py",
   "mimetype": "text/x-python",
   "name": "python",
   "nbconvert_exporter": "python",
   "pygments_lexer": "ipython3",
   "version": "3.7.3"
  }
 },
 "nbformat": 4,
 "nbformat_minor": 4
}
