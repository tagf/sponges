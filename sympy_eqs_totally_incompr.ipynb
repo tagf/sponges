{
 "cells": [
  {
   "cell_type": "code",
   "execution_count": 1,
   "metadata": {},
   "outputs": [
    {
     "name": "stdout",
     "output_type": "stream",
     "text": [
      "Requirement already satisfied: sympy==1.5.1 in c:\\users\\tfark\\anaconda3\\lib\\site-packages (1.5.1)\n",
      "Requirement already satisfied: mpmath>=0.19 in c:\\users\\tfark\\anaconda3\\lib\\site-packages (from sympy==1.5.1) (1.1.0)\n",
      "\n",
      "Created on Thu Apr  9 15:41:43 2020.\n",
      "\n",
      "@author: tagir.farkhutdinov@atco.com\n",
      "\n"
     ]
    }
   ],
   "source": [
    "#!/usr/bin/env python3\n",
    "# -*- coding: utf-8 -*-\n",
    "\"\"\"\n",
    "Created on Thu Apr  9 15:41:43 2020.\n",
    "\n",
    "@author: tagir.farkhutdinov@atco.com\n",
    "\"\"\"\n",
    "\n",
    "!pip install sympy==1.5.1\n",
    "\n",
    "import sympy\n",
    "from IPython.display import display, Latex\n",
    "\n",
    "print(__doc__)\n"
   ]
  },
  {
   "cell_type": "code",
   "execution_count": 80,
   "metadata": {},
   "outputs": [],
   "source": [
    "\"\"\"Print equations.\"\"\"\n",
    "# pylint: disable=C0103, R0914\n",
    "_sp = sy = sympy\n",
    "sympify = sympy.sympify\n",
    "x, t, rho_f, rho_s0, g_0, K = _sp.symbols('x t rho_f rho_s^0 g_0 K')\n",
    "X, Y, P = _sp.symbols('X Y P', cls=_sp.Function)\n",
    "\n",
    "X = X(x, t)\n",
    "Y = Y(x, t)\n",
    "\n",
    "u_s, u_f = _sp.symbols('u_s u_f', cls=_sp.Function)\n",
    "u_s, u_f = u_s(x, t), u_f(x, t)\n",
    "g, rho_s = _sp.symbols('g rho_s')\n",
    "\n",
    "def lhs(u, denom):\n",
    "    return ((u.diff(t) + u*u.diff(x)) * denom.diff(x)\n",
    "            ).simplify().factor(fraction=False)\n",
    "\n",
    "def simplify_eqs(eq):\n",
    "    return _sp.Eq((-eq.lhs).expand().factor(fraction=False),\n",
    "                  -eq.rhs)\n",
    "\n",
    "p_dx_expr = P(X.diff(x), Y.diff(x)).diff(x)\n",
    "p_dx = _sp.Symbol(\"\\\\partial_{x} P\")\n",
    "sigma_s_dx = _sp.Symbol(\"\\\\partial_{x}(\\\\sigma_e + S)\")\n",
    "\n",
    "def eq_builder(u_f, u_s, g, rho_s, rho_f):\n",
    "    eq_fluid = _sp.Eq(rho_f*g*lhs(u_f, x),\n",
    "                      (-g*sympify('(p(x,t) + mu(x, t))').diff(x) + K*(u_s - u_f)))\n",
    "    eq_solid = _sp.Eq(rho_s*lhs(u_s, x),\n",
    "                      (+g*sympify('p(x,t)').diff(x) - (1-g)*sympify('mu(x,t)').diff(x) + sigma_s_dx + K*(u_f - u_s)))\n",
    "    eq_p_dx = _sp.Eq(-p_dx, -p_dx_expr)\n",
    "    return eq_fluid, eq_solid, eq_p_dx\n",
    "\n",
    "def subscr_partials(eq, before, after):\n",
    "    return eq.subs(sympify(before).diff(t, t), sympify(after + '_tt')\n",
    "                  ).subs(sympify(before).diff(x, x), sympify(after + '_xx')\n",
    "                        ).subs(sympify(before).diff(x, t), sympify(after + '_xt')\n",
    "                              ).subs(sympify(before).diff(x), sympify(after + '_x')\n",
    "                                    ).subs(sympify(before).diff(t), sympify(after + '_t')\n",
    "                                          )\n",
    "                                     \n",
    "def nice_partials(eq):\n",
    "    return subscr_partials(subscr_partials(eq, 'Y(x, t)', 'Y'), 'X(x, t)', 'X')\n",
    "\n",
    "def print_eqn(eq, oneline=True, nicepartials=True):\n",
    "    # pylint: disable=W0212\n",
    "    eq = nice_partials(eq)\n",
    "    def correct_render(latex_repr):\n",
    "        return latex_repr.replace(\n",
    "            '\\\\substack', '').replace(\n",
    "                '\\\\displaystyle', '').replace(\n",
    "                    r'\\xi_{1}', r'\\xi').replace('\\\\xi_{2}', '\\\\eta')\n",
    "    if not oneline:\n",
    "        display(Latex(correct_render(eq.lhs._repr_latex_())))\n",
    "        display(Latex('$\\\\quad=' +\n",
    "                      correct_render(eq.rhs._repr_latex_()[1:-1])\n",
    "                      + ',$'))\n",
    "    else:\n",
    "        display(Latex(correct_render(eq._repr_latex_())))\n"
   ]
  },
  {
   "cell_type": "code",
   "execution_count": 81,
   "metadata": {},
   "outputs": [
    {
     "name": "stdout",
     "output_type": "stream",
     "text": [
      "Fluid dynamics:\n"
     ]
    },
    {
     "data": {
      "text/latex": [
       "$ g \\rho_{f} \\left(\\operatorname{u_{f}}{\\left(x,t \\right)} \\frac{\\partial}{\\partial x} \\operatorname{u_{f}}{\\left(x,t \\right)} + \\frac{\\partial}{\\partial t} \\operatorname{u_{f}}{\\left(x,t \\right)}\\right) = K \\left(- \\operatorname{u_{f}}{\\left(x,t \\right)} + \\operatorname{u_{s}}{\\left(x,t \\right)}\\right) - g \\left(\\frac{\\partial}{\\partial x} \\mu{\\left(x,t \\right)} + \\frac{\\partial}{\\partial x} p{\\left(x,t \\right)}\\right)$"
      ],
      "text/plain": [
       "<IPython.core.display.Latex object>"
      ]
     },
     "metadata": {},
     "output_type": "display_data"
    },
    {
     "name": "stdout",
     "output_type": "stream",
     "text": [
      "Solid dynamics:\n"
     ]
    },
    {
     "data": {
      "text/latex": [
       "$ \\rho_{s} \\left(\\operatorname{u_{s}}{\\left(x,t \\right)} \\frac{\\partial}{\\partial x} \\operatorname{u_{s}}{\\left(x,t \\right)} + \\frac{\\partial}{\\partial t} \\operatorname{u_{s}}{\\left(x,t \\right)}\\right) = K \\left(\\operatorname{u_{f}}{\\left(x,t \\right)} - \\operatorname{u_{s}}{\\left(x,t \\right)}\\right) + \\partial_{x}(\\sigma_e + S) + g \\frac{\\partial}{\\partial x} p{\\left(x,t \\right)} - \\left(1 - g\\right) \\frac{\\partial}{\\partial x} \\mu{\\left(x,t \\right)}$"
      ],
      "text/plain": [
       "<IPython.core.display.Latex object>"
      ]
     },
     "metadata": {},
     "output_type": "display_data"
    },
    {
     "name": "stdout",
     "output_type": "stream",
     "text": [
      "Dynamics of fluid and solid after substitution:\n"
     ]
    },
    {
     "data": {
      "text/latex": [
       "$ g_{0} \\rho_{f} \\left(\\frac{Y_{t}^{2} Y_{xx}}{Y_{x}^{2}} - \\frac{2 Y_{t} Y_{xt}}{Y_{x}} + Y_{tt}\\right) = - K \\left(- \\frac{X_{t}}{X_{x}} + \\frac{Y_{t}}{Y_{x}}\\right) + Y_{x} g_{0} \\left(\\frac{\\partial}{\\partial x} \\mu{\\left(x,t \\right)} + \\frac{\\partial}{\\partial x} p{\\left(x,t \\right)}\\right)$"
      ],
      "text/plain": [
       "<IPython.core.display.Latex object>"
      ]
     },
     "metadata": {},
     "output_type": "display_data"
    },
    {
     "data": {
      "text/latex": [
       "$ \\rho^{0}_{s} \\left(\\frac{X_{t}^{2} X_{xx}}{X_{x}^{2}} - \\frac{2 X_{t} X_{xt}}{X_{x}} + X_{tt}\\right) = - K \\left(\\frac{X_{t}}{X_{x}} - \\frac{Y_{t}}{Y_{x}}\\right) - Y_{x} g_{0} \\frac{\\partial}{\\partial x} p{\\left(x,t \\right)} - \\partial_{x}(\\sigma_e + S) + \\left(- Y_{x} g_{0} + 1\\right) \\frac{\\partial}{\\partial x} \\mu{\\left(x,t \\right)}$"
      ],
      "text/plain": [
       "<IPython.core.display.Latex object>"
      ]
     },
     "metadata": {},
     "output_type": "display_data"
    },
    {
     "name": "stdout",
     "output_type": "stream",
     "text": [
      "Pressure:\n"
     ]
    },
    {
     "data": {
      "text/latex": [
       "$ \\partial_{x} P = X_{xx} \\left. \\frac{\\partial}{\\partial \\xi} P{\\left(\\xi,Y_{x} \\right)} \\right|_{{ \\xi=X_{x} }} + Y_{xx} \\left. \\frac{\\partial}{\\partial \\eta} P{\\left(X_{x},\\eta \\right)} \\right|_{{ \\eta=Y_{x} }}$"
      ],
      "text/plain": [
       "<IPython.core.display.Latex object>"
      ]
     },
     "metadata": {},
     "output_type": "display_data"
    }
   ],
   "source": [
    "# Original equations\n",
    "eq_fluid, eq_solid, eq_p_dx = eq_builder(u_f, u_s, g, rho_s, rho_f)\n",
    "print('Fluid dynamics:')\n",
    "print_eqn(eq_fluid, True)\n",
    "print('Solid dynamics:')\n",
    "print_eqn(eq_solid, True)\n",
    "# Substitutions of X and Y\n",
    "u_s_ = -X.diff(t)/X.diff(x)\n",
    "u_f_ = -Y.diff(t)/Y.diff(x)\n",
    "g_ = g_0 * Y.diff(x)\n",
    "rho_s_ = rho_s0 * X.diff(x)\n",
    "eq_fluid, eq_solid, eq_p_dx = eq_builder(u_f_, u_s_, g_, rho_s_, rho_f)\n",
    "\n",
    "eq_fluid, eq_solid, eq_p_dx = list(\n",
    "    map(simplify_eqs, [eq_fluid, eq_solid, eq_p_dx]))\n",
    "\n",
    "print('Dynamics of fluid and solid after substitution:')\n",
    "print_eqn(eq_fluid, True)\n",
    "print_eqn(eq_solid, True)\n",
    "print('Pressure:')\n",
    "print_eqn(eq_p_dx, True)"
   ]
  },
  {
   "cell_type": "code",
   "execution_count": 117,
   "metadata": {},
   "outputs": [
    {
     "name": "stdout",
     "output_type": "stream",
     "text": [
      "Total incompressibility:\n",
      "DON'T WORRY about missing braces after partials x,\n",
      "it's solely a sympy representation bug):\n"
     ]
    },
    {
     "data": {
      "text/latex": [
       "$ \\frac{\\partial}{\\partial x} g \\operatorname{u_{f}}{\\left(x,t \\right)} = - \\frac{\\partial}{\\partial x} \\left(1 - g\\right) \\operatorname{u_{s}}{\\left(x,t \\right)}$"
      ],
      "text/plain": [
       "<IPython.core.display.Latex object>"
      ]
     },
     "metadata": {},
     "output_type": "display_data"
    },
    {
     "name": "stdout",
     "output_type": "stream",
     "text": [
      "After substitutions:\n"
     ]
    },
    {
     "data": {
      "text/latex": [
       "$ \\frac{\\partial}{\\partial x} - Y_{t} g_{0} = - \\frac{\\partial}{\\partial x} - \\frac{X_{t} \\left(- Y_{x} g_{0} + 1\\right)}{X_{x}}$"
      ],
      "text/plain": [
       "<IPython.core.display.Latex object>"
      ]
     },
     "metadata": {},
     "output_type": "display_data"
    },
    {
     "data": {
      "text/latex": [
       "$ - Y_{xt} g_{0} = - \\frac{X_{t} Y_{xx} g_{0}}{X_{x}} - \\frac{X_{t} X_{xx} \\left(- Y_{x} g_{0} + 1\\right)}{X_{x}^{2}} + \\frac{X_{xt} \\left(- Y_{x} g_{0} + 1\\right)}{X_{x}}$"
      ],
      "text/plain": [
       "<IPython.core.display.Latex object>"
      ]
     },
     "metadata": {},
     "output_type": "display_data"
    },
    {
     "name": "stdout",
     "output_type": "stream",
     "text": [
      "Multipled by X_x**2:\n"
     ]
    },
    {
     "data": {
      "text/latex": [
       "$ X_{x} g_{0} \\left(X_{t} Y_{xx} - X_{x} Y_{xt}\\right) = \\left(X_{t} X_{xx} - X_{x} X_{xt}\\right) \\left(Y_{x} g_{0} - 1\\right)$"
      ],
      "text/plain": [
       "<IPython.core.display.Latex object>"
      ]
     },
     "metadata": {},
     "output_type": "display_data"
    },
    {
     "name": "stdout",
     "output_type": "stream",
     "text": [
      "In our paper\n"
     ]
    },
    {
     "data": {
      "text/latex": [
       "$ X_{t} \\left(- Y_{x} g_{0} + 1\\right) + X_{x} Y_{t} g_{0} = 0$"
      ],
      "text/plain": [
       "<IPython.core.display.Latex object>"
      ]
     },
     "metadata": {},
     "output_type": "display_data"
    },
    {
     "name": "stdout",
     "output_type": "stream",
     "text": [
      "- Partial wrt x\n"
     ]
    },
    {
     "data": {
      "text/latex": [
       "$ X_{t} Y_{xx} g_{0} - X_{x} Y_{xt} g_{0} - X_{xt} \\left(- Y_{x} g_{0} + 1\\right) - X_{xx} Y_{t} g_{0} = 0$"
      ],
      "text/plain": [
       "<IPython.core.display.Latex object>"
      ]
     },
     "metadata": {},
     "output_type": "display_data"
    },
    {
     "name": "stdout",
     "output_type": "stream",
     "text": [
      "It seems that it should be \n"
     ]
    },
    {
     "data": {
      "text/latex": [
       "$ - X_{x}^{3} g_{0} \\frac{\\partial}{\\partial x} \\frac{Y_{t}}{X_{x}} = X_{x}^{2} \\left(- Y_{x} g_{0} + 1\\right) \\frac{\\partial}{\\partial x} \\frac{X_{t}}{X_{x}}$"
      ],
      "text/plain": [
       "<IPython.core.display.Latex object>"
      ]
     },
     "metadata": {},
     "output_type": "display_data"
    },
    {
     "name": "stdout",
     "output_type": "stream",
     "text": [
      "Partial wrt x\n"
     ]
    },
    {
     "data": {
      "text/latex": [
       "$ X_{x} g_{0} \\left(- X_{x} Y_{xt} + X_{xx} Y_{t}\\right) = \\left(X_{t} X_{xx} - X_{x} X_{xt}\\right) \\left(Y_{x} g_{0} - 1\\right)$"
      ],
      "text/plain": [
       "<IPython.core.display.Latex object>"
      ]
     },
     "metadata": {},
     "output_type": "display_data"
    }
   ],
   "source": [
    "print(\"Total incompressibility:\")\n",
    "print(\"DON'T WORRY about missing braces after partials x,\\nit's solely a sympy representation bug):\")\n",
    "\n",
    "def eq_incompr(g, u_f, u_s): return sy.Eq(sy.Derivative(g*u_f, x),\n",
    "                                          -sy.Derivative(((1-g)*u_s), x))\n",
    "print_eqn(eq_incompr(g, u_f, u_s), True)\n",
    "\n",
    "print(\"After substitutions:\")\n",
    "print_eqn(eq_incompr(g_, u_f_, u_s_), True)\n",
    "print_eqn(eq_incompr(g_, u_f_, u_s_).doit(), True)\n",
    "print(\"Multipled by X_x**2:\")\n",
    "print_eqn(sy.Eq((X.diff(x)**2 * \n",
    "                (eq_incompr(g_, u_f_, u_s_).doit().lhs + g_0*X.diff(t)*Y.diff(x, x)/X.diff(x))),\n",
    "                (X.diff(x)**2 * \n",
    "                 (eq_incompr(g_, u_f_, u_s_).doit().rhs + g_0*X.diff(t)*Y.diff(x, x)/X.diff(x))\n",
    "                )\n",
    "               ).simplify()\n",
    "         )\n",
    "\n",
    "print(\"In our paper\")\n",
    "print_eqn(sy.Eq(g_0 * X.diff(x) * Y.diff(t) + (1 - g_0 * Y.diff(x)) * X.diff(t), 0))\n",
    "print(\"- Partial wrt x\")\n",
    "print_eqn(sy.Eq(-(g_0 * X.diff(x) * Y.diff(t) + (1 - g_0 * Y.diff(x)) * X.diff(t)).diff(x), 0))\n",
    "\n",
    "print(\"It seems that it should be \")\n",
    "eq_incompr_correct = sy.Eq(\n",
    "    -g_0 * sy.Derivative(Y.diff(t)/X.diff(x), x) * X.diff(x)**3,\n",
    "    (1 - g_)*sy.Derivative(X.diff(t)/X.diff(x), x) * X.diff(x)**2\n",
    ")\n",
    "print_eqn(eq_incompr_correct)\n",
    "print(\"Partial wrt x\")\n",
    "print_eqn(sy.Eq((eq_incompr_correct.lhs.doit()).simplify(),\n",
    "                (eq_incompr_correct.rhs.doit()).simplify())\n",
    "         )"
   ]
  },
  {
   "cell_type": "code",
   "execution_count": null,
   "metadata": {},
   "outputs": [],
   "source": [
    "# Total incompressibility\n",
    "incompr = "
   ]
  },
  {
   "cell_type": "code",
   "execution_count": 18,
   "metadata": {},
   "outputs": [
    {
     "name": "stdout",
     "output_type": "stream",
     "text": [
      "Potential energy:\n"
     ]
    },
    {
     "data": {
      "text/latex": [
       "$ V{\\left(\\frac{\\partial}{\\partial x} X{\\left(x,t \\right)},\\frac{\\partial}{\\partial x} Y{\\left(x,t \\right)} \\right)} = \\frac{\\alpha \\left(\\frac{\\partial}{\\partial x} X{\\left(x,t \\right)} - 1\\right)^{2}}{2} + \\frac{\\beta \\left(g_{0} \\frac{\\partial}{\\partial x} Y{\\left(x,t \\right)} + \\left(1 - g_{0}\\right) \\frac{\\partial}{\\partial x} X{\\left(x,t \\right)} - 1\\right)^{2}}{2}$"
      ],
      "text/plain": [
       "<IPython.core.display.Latex object>"
      ]
     },
     "metadata": {},
     "output_type": "display_data"
    }
   ],
   "source": [
    "print('Potential energy:')\n",
    "rho_s, rho_f = X.diff(x), g/g_0\n",
    "\n",
    "def potential_rhs(rho_s, rho_f):\n",
    "    return (\n",
    "        _sp.Symbol('alpha')/2 * (rho_s - 1)**2\n",
    "        + _sp.Symbol('beta')/2 * (rho_f*g_0 - (1-(1-g_0)*rho_s))**2\n",
    "    )\n",
    "\n",
    "eq_potential = _sp.Eq(_sp.symbols('V', cls=sy.Function)(rho_s, rho_f),\n",
    "                      potential_rhs(rho_s, rho_f)\n",
    "                      )\n",
    "print_eqn(eq_potential, True)"
   ]
  },
  {
   "cell_type": "code",
   "execution_count": 19,
   "metadata": {},
   "outputs": [
    {
     "data": {
      "text/latex": [
       "$\\displaystyle V{\\left(\\frac{1}{\\sqrt{b}},\\frac{\\partial}{\\partial x} Y{\\left(x,t \\right)} \\right)} = \\frac{\\alpha \\left(-1 + \\frac{1}{\\sqrt{b}}\\right)^{2}}{2} + \\frac{\\beta \\left(g_{0} \\frac{\\partial}{\\partial x} Y{\\left(x,t \\right)} - 1 + \\frac{1 - g_{0}}{\\sqrt{b}}\\right)^{2}}{2}$"
      ],
      "text/plain": [
       "Eq(V(1/sqrt(b), Derivative(Y(x, t), x)), alpha*(-1 + 1/sqrt(b))**2/2 + beta*(g_0*Derivative(Y(x, t), x) - 1 + (1 - g_0)/sqrt(b))**2/2)"
      ]
     },
     "metadata": {},
     "output_type": "display_data"
    },
    {
     "data": {
      "text/latex": [
       "$\\displaystyle V{\\left(b,v \\right)} = \\frac{\\alpha \\left(-1 + \\frac{1}{\\sqrt{b}}\\right)^{2}}{2} + \\frac{\\beta \\left(-1 + \\frac{c_{0} g_{0} v}{\\sqrt{b}} + \\frac{1 - g_{0}}{\\sqrt{b}}\\right)^{2}}{2}$"
      ],
      "text/plain": [
       "Eq(V(b, v), alpha*(-1 + 1/sqrt(b))**2/2 + beta*(-1 + c_0*g_0*v/sqrt(b) + (1 - g_0)/sqrt(b))**2/2)"
      ]
     },
     "metadata": {},
     "output_type": "display_data"
    }
   ],
   "source": [
    "b = _sp.Symbol('b')\n",
    "rho_s = 1/_sp.sqrt(b)\n",
    "eq_potential = _sp.Eq(_sp.symbols('V', cls=sy.Function)(rho_s, rho_f),\n",
    "                      potential_rhs(rho_s, rho_f)\n",
    "                      )\n",
    "display(eq_potential)\n",
    "\n",
    "v = _sp.Symbol('v')\n",
    "eq_potential = _sp.Eq(_sp.symbols('V', cls=sy.Function)(b, v),\n",
    "                      potential_rhs(rho_s,\n",
    "                                    _sp.Symbol('c_0')*v/_sp.sqrt(b))\n",
    "                      )\n",
    "display(eq_potential)"
   ]
  },
  {
   "cell_type": "code",
   "execution_count": 20,
   "metadata": {},
   "outputs": [
    {
     "name": "stdout",
     "output_type": "stream",
     "text": [
      "Sigma epsilon:\n"
     ]
    },
    {
     "data": {
      "text/latex": [
       "$ 2 b \\frac{\\partial}{\\partial b} V{\\left(b,v \\right)} + V{\\left(b,v \\right)}$"
      ],
      "text/plain": [
       "<IPython.core.display.Latex object>"
      ]
     },
     "metadata": {},
     "output_type": "display_data"
    },
    {
     "data": {
      "text/latex": [
       "$\\quad= \\frac{\\alpha \\left(-1 + \\frac{1}{\\sqrt{b}}\\right)^{2}}{2} + b \\left(- \\frac{\\alpha \\left(-1 + \\frac{1}{\\sqrt{b}}\\right)}{b^{\\frac{3}{2}}} + \\beta \\left(- \\frac{c_{0} g_{0} v}{b^{\\frac{3}{2}}} - \\frac{1 - g_{0}}{b^{\\frac{3}{2}}}\\right) \\left(-1 + \\frac{c_{0} g_{0} v}{\\sqrt{b}} + \\frac{1 - g_{0}}{\\sqrt{b}}\\right)\\right) + \\frac{\\beta \\left(-1 + \\frac{c_{0} g_{0} v}{\\sqrt{b}} + \\frac{1 - g_{0}}{\\sqrt{b}}\\right)^{2}}{2},$"
      ],
      "text/plain": [
       "<IPython.core.display.Latex object>"
      ]
     },
     "metadata": {},
     "output_type": "display_data"
    },
    {
     "data": {
      "text/latex": [
       "$ 2 b \\frac{\\partial}{\\partial b} V{\\left(b,v \\right)} + V{\\left(b,v \\right)}$"
      ],
      "text/plain": [
       "<IPython.core.display.Latex object>"
      ]
     },
     "metadata": {},
     "output_type": "display_data"
    },
    {
     "data": {
      "text/latex": [
       "$\\quad= \\frac{\\alpha}{2} - \\frac{\\alpha}{2 b} + \\frac{\\beta}{2} - \\frac{\\beta c_{0}^{2} g_{0}^{2} v^{2}}{2 b} + \\frac{\\beta c_{0} g_{0}^{2} v}{b} - \\frac{\\beta c_{0} g_{0} v}{b} - \\frac{\\beta g_{0}^{2}}{2 b} + \\frac{\\beta g_{0}}{b} - \\frac{\\beta}{2 b},$"
      ],
      "text/plain": [
       "<IPython.core.display.Latex object>"
      ]
     },
     "metadata": {},
     "output_type": "display_data"
    },
    {
     "name": "stdout",
     "output_type": "stream",
     "text": [
      "Partial_x sigma epsilon:\n"
     ]
    },
    {
     "data": {
      "text/latex": [
       "$ \\partial_{x} \\sigma_e$"
      ],
      "text/plain": [
       "<IPython.core.display.Latex object>"
      ]
     },
     "metadata": {},
     "output_type": "display_data"
    },
    {
     "data": {
      "text/latex": [
       "$\\quad= \\partial_{x} \\left(- \\frac{\\alpha \\left(\\frac{\\partial}{\\partial x} X{\\left(x,t \\right)}\\right)^{2}}{2} + \\frac{\\alpha}{2} - \\frac{\\beta c_{0}^{2} g_{0}^{2} v_{0}^{2} \\left(\\frac{\\partial}{\\partial x} Y{\\left(x,t \\right)}\\right)^{2}}{2} + \\beta c_{0} g_{0}^{2} v_{0} \\frac{\\partial}{\\partial x} X{\\left(x,t \\right)} \\frac{\\partial}{\\partial x} Y{\\left(x,t \\right)} - \\beta c_{0} g_{0} v_{0} \\frac{\\partial}{\\partial x} X{\\left(x,t \\right)} \\frac{\\partial}{\\partial x} Y{\\left(x,t \\right)} - \\frac{\\beta g_{0}^{2} \\left(\\frac{\\partial}{\\partial x} X{\\left(x,t \\right)}\\right)^{2}}{2} + \\beta g_{0} \\left(\\frac{\\partial}{\\partial x} X{\\left(x,t \\right)}\\right)^{2} - \\frac{\\beta \\left(\\frac{\\partial}{\\partial x} X{\\left(x,t \\right)}\\right)^{2}}{2} + \\frac{\\beta}{2}\\right),$"
      ],
      "text/plain": [
       "<IPython.core.display.Latex object>"
      ]
     },
     "metadata": {},
     "output_type": "display_data"
    },
    {
     "name": "stdout",
     "output_type": "stream",
     "text": [
      "or, the whole expression = \n"
     ]
    },
    {
     "data": {
      "text/latex": [
       "$\\displaystyle - \\alpha \\frac{\\partial}{\\partial x} X{\\left(x,t \\right)} \\frac{\\partial^{2}}{\\partial x^{2}} X{\\left(x,t \\right)}$"
      ],
      "text/plain": [
       "-alpha*Derivative(X(x, t), x)*Derivative(X(x, t), (x, 2))"
      ]
     },
     "metadata": {},
     "output_type": "display_data"
    },
    {
     "name": "stdout",
     "output_type": "stream",
     "text": [
      "+\n"
     ]
    },
    {
     "data": {
      "text/latex": [
       "$\\displaystyle - \\beta \\left(- g_{0}^{2} \\frac{\\partial}{\\partial x} Y{\\left(x,t \\right)} + g_{0} \\frac{\\partial}{\\partial x} X{\\left(x,t \\right)} - \\frac{\\partial}{\\partial x} X{\\left(x,t \\right)}\\right) \\left(- g_{0}^{2} \\frac{\\partial^{2}}{\\partial x^{2}} Y{\\left(x,t \\right)} + g_{0} \\frac{\\partial^{2}}{\\partial x^{2}} X{\\left(x,t \\right)} - \\frac{\\partial^{2}}{\\partial x^{2}} X{\\left(x,t \\right)}\\right)$"
      ],
      "text/plain": [
       "-beta*(-g_0**2*Derivative(Y(x, t), x) + g_0*Derivative(X(x, t), x) - Derivative(X(x, t), x))*(-g_0**2*Derivative(Y(x, t), (x, 2)) + g_0*Derivative(X(x, t), (x, 2)) - Derivative(X(x, t), (x, 2)))"
      ]
     },
     "metadata": {},
     "output_type": "display_data"
    },
    {
     "name": "stdout",
     "output_type": "stream",
     "text": [
      "We used the following formula for pore volume in derivation above:\n"
     ]
    },
    {
     "data": {
      "text/latex": [
       "$\\displaystyle \\frac{v}{v_{0}} = \\frac{\\frac{\\partial}{\\partial x} Y{\\left(x,t \\right)}}{\\frac{\\partial}{\\partial x} X{\\left(x,t \\right)}}$"
      ],
      "text/plain": [
       "Eq(v/v_0, Derivative(Y(x, t), x)/Derivative(X(x, t), x))"
      ]
     },
     "metadata": {},
     "output_type": "display_data"
    },
    {
     "name": "stdout",
     "output_type": "stream",
     "text": [
      "We'll use the same formula to find pressure\n"
     ]
    },
    {
     "data": {
      "text/latex": [
       "$\\displaystyle pc(b) = \\frac{\\beta c_{0} g_{0} \\left(-1 + \\frac{c_{0} g_{0} v}{\\sqrt{b}} + \\frac{1 - g_{0}}{\\sqrt{b}}\\right)}{\\sqrt{b}}$"
      ],
      "text/plain": [
       "Eq(pc(b), beta*c_0*g_0*(-1 + c_0*g_0*v/sqrt(b) + (1 - g_0)/sqrt(b))/sqrt(b))"
      ]
     },
     "metadata": {},
     "output_type": "display_data"
    },
    {
     "name": "stdout",
     "output_type": "stream",
     "text": [
      "or, for pressure we have\n"
     ]
    },
    {
     "data": {
      "text/latex": [
       "$\\displaystyle p = \\beta g_{0} \\left(-1 + \\frac{c_{0} g_{0} v}{\\sqrt{b}} + \\frac{1 - g_{0}}{\\sqrt{b}}\\right)$"
      ],
      "text/plain": [
       "Eq(p, beta*g_0*(-1 + c_0*g_0*v/sqrt(b) + (1 - g_0)/sqrt(b)))"
      ]
     },
     "metadata": {},
     "output_type": "display_data"
    },
    {
     "data": {
      "text/latex": [
       "$\\displaystyle p = \\beta g_{0} \\left(c_{0} g_{0} v_{0} \\frac{\\partial}{\\partial x} Y{\\left(x,t \\right)} + \\left(1 - g_{0}\\right) \\frac{\\partial}{\\partial x} X{\\left(x,t \\right)} - 1\\right)$"
      ],
      "text/plain": [
       "Eq(p, beta*g_0*(c_0*g_0*v_0*Derivative(Y(x, t), x) + (1 - g_0)*Derivative(X(x, t), x) - 1))"
      ]
     },
     "metadata": {},
     "output_type": "display_data"
    },
    {
     "name": "stdout",
     "output_type": "stream",
     "text": [
      "and subsequently\n"
     ]
    },
    {
     "data": {
      "text/latex": [
       "$\\displaystyle \\partial_{x} p = \\beta g_{0} \\left(c_{0} g_{0} v_{0} \\frac{\\partial^{2}}{\\partial x^{2}} Y{\\left(x,t \\right)} + \\left(1 - g_{0}\\right) \\frac{\\partial^{2}}{\\partial x^{2}} X{\\left(x,t \\right)}\\right)$"
      ],
      "text/plain": [
       "Eq(\\partial_{x} p, beta*g_0*(c_0*g_0*v_0*Derivative(Y(x, t), (x, 2)) + (1 - g_0)*Derivative(X(x, t), (x, 2))))"
      ]
     },
     "metadata": {},
     "output_type": "display_data"
    }
   ],
   "source": [
    "print('Sigma epsilon:')\n",
    "V = _sp.symbols('V', cls=_sp.Function)\n",
    "sigma_eps = _sp.Eq(V(b, v) + 2*V(b, v).diff(b)*b,\n",
    "                   (2*(eq_potential.rhs.diff(b))*b +\n",
    "                   eq_potential.rhs)\n",
    "                   )\n",
    "print_eqn(sigma_eps)\n",
    "sigma_eps = _sp.Eq(sigma_eps.lhs, sigma_eps.rhs.expand())\n",
    "print_eqn(sigma_eps)\n",
    "\n",
    "print('Partial_x sigma epsilon:')\n",
    "partial_sigma_eps = _sp.Eq(_sp.Symbol('\\\\partial_{x} \\\\sigma_e'),\n",
    "                           _sp.Symbol('\\\\partial_{x}')\n",
    "                           * sigma_eps.rhs.subs(\n",
    "                               b, 1/X.diff(x)**2\n",
    "                               ).subs(\n",
    "                                   v,\n",
    "                                   _sp.Symbol('v_0')*Y.diff(x)/X.diff(x)))\n",
    "print_eqn(partial_sigma_eps)\n",
    "print('or, the whole expression = ')\n",
    "dsigmadx = partial_sigma_eps.rhs.diff(x)/_sp.Symbol('\\\\partial_{x}')\n",
    "# print(type(dsigmadx.args[0]))\n",
    "display(dsigmadx.args[0])\n",
    "print('+')\n",
    "display((dsigmadx - dsigmadx.args[0]\n",
    "         ).subs(_sp.Symbol('v_0'), g_0\n",
    "                ).subs(_sp.Symbol('c_0'), 1).factor())\n",
    "\n",
    "print('We used the following formula for pore volume in derivation above:')\n",
    "pore_vol_eq = _sp.Eq(_sp.Symbol('v')/_sp.Symbol('v_0'),\n",
    "                     Y.diff(x)/X.diff(x))\n",
    "display(pore_vol_eq)\n",
    "\n",
    "print(\"We'll use the same formula to find pressure\")\n",
    "pressure_eq = _sp.Eq(_sp.Symbol('pc(b)'),\n",
    "                     eq_potential.rhs.diff(v))\n",
    "display(pressure_eq)\n",
    "\n",
    "print(\"or, for pressure we have\")\n",
    "pressure_eq = _sp.Eq(_sp.Symbol('p'),\n",
    "                     pressure_eq.rhs/_sp.Symbol('c_0')*_sp.sqrt(b))\n",
    "\n",
    "display(pressure_eq)\n",
    "pressure_eq = _sp.Eq(_sp.Symbol('p'),\n",
    "                     pressure_eq.rhs.subs(\n",
    "                         _sp.sqrt(b), 1/X.diff(x)\n",
    "                         ).subs(_sp.Symbol('v'),\n",
    "                                _sp.Symbol('v_0') * Y.diff(x)/X.diff(x)))\n",
    "display(pressure_eq)\n",
    "\n",
    "print(\"and subsequently\")\n",
    "pressure_eq = _sp.Eq(_sp.Symbol('\\\\partial_{x} p'),\n",
    "                     pressure_eq.rhs.diff(x))\n",
    "display(pressure_eq)\n",
    "\n",
    "\n"
   ]
  }
 ],
 "metadata": {
  "kernelspec": {
   "display_name": "Python 3",
   "language": "python",
   "name": "python3"
  },
  "language_info": {
   "codemirror_mode": {
    "name": "ipython",
    "version": 3
   },
   "file_extension": ".py",
   "mimetype": "text/x-python",
   "name": "python",
   "nbconvert_exporter": "python",
   "pygments_lexer": "ipython3",
   "version": "3.7.3"
  }
 },
 "nbformat": 4,
 "nbformat_minor": 4
}
